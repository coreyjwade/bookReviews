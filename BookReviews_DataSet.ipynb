{
 "cells": [
  {
   "cell_type": "markdown",
   "metadata": {},
   "source": [
    "# Book Reviewer Rankings"
   ]
  },
  {
   "cell_type": "markdown",
   "metadata": {},
   "source": [
    "The purpose of this Jupyter Notebook is to examine book reviews and to find a way of ranking reviewers. I researched book reviews online and discovered the following dataset courtesty of Julian McAuley, UCSC: \n",
    "\n",
    "http://jmcauley.ucsd.edu/data/amazon/\n",
    "\n",
    "I downloaded a subset of \"Books\" that consists of 8.9 million reviews."
   ]
  },
  {
   "cell_type": "markdown",
   "metadata": {},
   "source": [
    "## Open Amazon Books Json File"
   ]
  },
  {
   "cell_type": "code",
   "execution_count": 3,
   "metadata": {},
   "outputs": [],
   "source": [
    "import pandas as pd\n",
    "import json\n",
    "\n",
    "with open('reviews_Books_5.json', 'r') as f:\n",
    "    reviews = f.readlines()"
   ]
  },
  {
   "cell_type": "markdown",
   "metadata": {},
   "source": [
    "This took a long time due to the size of the file."
   ]
  },
  {
   "cell_type": "code",
   "execution_count": 208,
   "metadata": {
    "collapsed": true
   },
   "outputs": [
    {
     "data": {
      "text/plain": [
       "['{\"reviewerID\": \"A10000012B7CGYKOMPQ4L\", \"asin\": \"000100039X\", \"reviewerName\": \"Adam\", \"helpful\": [0, 0], \"reviewText\": \"Spiritually and mentally inspiring! A book that allows you to question your morals and will help you discover who you really are!\", \"overall\": 5.0, \"summary\": \"Wonderful!\", \"unixReviewTime\": 1355616000, \"reviewTime\": \"12 16, 2012\"}\\n',\n",
       " '{\"reviewerID\": \"A2S166WSCFIFP5\", \"asin\": \"000100039X\", \"reviewerName\": \"adead_poet@hotmail.com \\\\\"adead_poet@hotmail.com\\\\\"\", \"helpful\": [0, 2], \"reviewText\": \"This is one my must have books. It is a masterpiece of spirituality. I\\'ll be the first to admit, its literary quality isn\\'t much. It is rather simplistically written, but the message behind it is so powerful that you have to read it. It will take you to enlightenment.\", \"overall\": 5.0, \"summary\": \"close to god\", \"unixReviewTime\": 1071100800, \"reviewTime\": \"12 11, 2003\"}\\n',\n",
       " '{\"reviewerID\": \"A1BM81XB4QHOA3\", \"asin\": \"000100039X\", \"reviewerName\": \"Ahoro Blethends \\\\\"Seriously\\\\\"\", \"helpful\": [0, 0], \"reviewText\": \"This book provides a reflection that you can apply to your own life.And, a way for you to try and assess whether you are truly doing the right thing and making the most of your short time on this plane.\", \"overall\": 5.0, \"summary\": \"Must Read for Life Afficianados\", \"unixReviewTime\": 1390003200, \"reviewTime\": \"01 18, 2014\"}\\n',\n",
       " '{\"reviewerID\": \"A1MOSTXNIO5MPJ\", \"asin\": \"000100039X\", \"reviewerName\": \"Alan Krug\", \"helpful\": [0, 0], \"reviewText\": \"I first read THE PROPHET in college back in the 60\\'s. The book had a revival as did anything metaphysical in the turbulent 60\\'s. It had a profound effect on me and became a book I always took with me. After graduation I joined the Peace Corps and during stressful training in country (Liberia) at times of illness and the night before I left, this book gave me great comfort. I read it before I married, just before and again after my children were born and again after two near fatal illnesses. I am always amazed that there is a chapter that reaches out to you, grabs you and offers both comfort and hope for the future.Gibran offers timeless insights and love with each word. I think that we as a nation should read AND learn the lessons here. It is definitely a time for thought and reflection this book could guide us through.\", \"overall\": 5.0, \"summary\": \"Timeless for every good and bad time in your life.\", \"unixReviewTime\": 1317081600, \"reviewTime\": \"09 27, 2011\"}\\n',\n",
       " '{\"reviewerID\": \"A2XQ5LZHTD4AFT\", \"asin\": \"000100039X\", \"reviewerName\": \"Alaturka\", \"helpful\": [7, 9], \"reviewText\": \"A timeless classic.  It is a very demanding and assuming title, but Gibran backs it up with some excellent style and content.  If he had the means to publish it a century or two earlier, he could have inspired a new religion.From the mouth of an old man about to sail away to a far away destination, we hear the wisdom of life and all important aspects of it.  It is a messege.  A guide book.  A Sufi sermon. Much is put in perspective without any hint of a dogma.  There is much that hints at his birth place, Lebanon where many of the old prophets walked the Earth and where this book project first germinated most likely.Probably becuase it was written in English originally, the writing flows, it is pleasant to read, and the charcoal drawings of the author decorating the pages is a plus.  I loved the cover.\", \"overall\": 5.0, \"summary\": \"A Modern Rumi\", \"unixReviewTime\": 1033948800, \"reviewTime\": \"10 7, 2002\"}\\n']"
      ]
     },
     "execution_count": 208,
     "metadata": {},
     "output_type": "execute_result"
    }
   ],
   "source": [
    "reviews[0:5]"
   ]
  },
  {
   "cell_type": "markdown",
   "metadata": {},
   "source": [
    "Printing out the first five reviews reveals a list of dictonaries separated by '/n'."
   ]
  },
  {
   "cell_type": "markdown",
   "metadata": {},
   "source": [
    "### Eliminate /n"
   ]
  },
  {
   "cell_type": "code",
   "execution_count": 5,
   "metadata": {},
   "outputs": [],
   "source": [
    "data = [json.loads(item.strip('\\n')) for item in reviews]"
   ]
  },
  {
   "cell_type": "code",
   "execution_count": 209,
   "metadata": {
    "collapsed": true
   },
   "outputs": [
    {
     "data": {
      "text/plain": [
       "[{'asin': '000100039X',\n",
       "  'helpful': [0, 0],\n",
       "  'overall': 5.0,\n",
       "  'reviewText': 'Spiritually and mentally inspiring! A book that allows you to question your morals and will help you discover who you really are!',\n",
       "  'reviewTime': '12 16, 2012',\n",
       "  'reviewerID': 'A10000012B7CGYKOMPQ4L',\n",
       "  'reviewerName': 'Adam',\n",
       "  'summary': 'Wonderful!',\n",
       "  'unixReviewTime': 1355616000},\n",
       " {'asin': '000100039X',\n",
       "  'helpful': [0, 2],\n",
       "  'overall': 5.0,\n",
       "  'reviewText': \"This is one my must have books. It is a masterpiece of spirituality. I'll be the first to admit, its literary quality isn't much. It is rather simplistically written, but the message behind it is so powerful that you have to read it. It will take you to enlightenment.\",\n",
       "  'reviewTime': '12 11, 2003',\n",
       "  'reviewerID': 'A2S166WSCFIFP5',\n",
       "  'reviewerName': 'adead_poet@hotmail.com \"adead_poet@hotmail.com\"',\n",
       "  'summary': 'close to god',\n",
       "  'unixReviewTime': 1071100800},\n",
       " {'asin': '000100039X',\n",
       "  'helpful': [0, 0],\n",
       "  'overall': 5.0,\n",
       "  'reviewText': 'This book provides a reflection that you can apply to your own life.And, a way for you to try and assess whether you are truly doing the right thing and making the most of your short time on this plane.',\n",
       "  'reviewTime': '01 18, 2014',\n",
       "  'reviewerID': 'A1BM81XB4QHOA3',\n",
       "  'reviewerName': 'Ahoro Blethends \"Seriously\"',\n",
       "  'summary': 'Must Read for Life Afficianados',\n",
       "  'unixReviewTime': 1390003200},\n",
       " {'asin': '000100039X',\n",
       "  'helpful': [0, 0],\n",
       "  'overall': 5.0,\n",
       "  'reviewText': \"I first read THE PROPHET in college back in the 60's. The book had a revival as did anything metaphysical in the turbulent 60's. It had a profound effect on me and became a book I always took with me. After graduation I joined the Peace Corps and during stressful training in country (Liberia) at times of illness and the night before I left, this book gave me great comfort. I read it before I married, just before and again after my children were born and again after two near fatal illnesses. I am always amazed that there is a chapter that reaches out to you, grabs you and offers both comfort and hope for the future.Gibran offers timeless insights and love with each word. I think that we as a nation should read AND learn the lessons here. It is definitely a time for thought and reflection this book could guide us through.\",\n",
       "  'reviewTime': '09 27, 2011',\n",
       "  'reviewerID': 'A1MOSTXNIO5MPJ',\n",
       "  'reviewerName': 'Alan Krug',\n",
       "  'summary': 'Timeless for every good and bad time in your life.',\n",
       "  'unixReviewTime': 1317081600},\n",
       " {'asin': '000100039X',\n",
       "  'helpful': [7, 9],\n",
       "  'overall': 5.0,\n",
       "  'reviewText': 'A timeless classic.  It is a very demanding and assuming title, but Gibran backs it up with some excellent style and content.  If he had the means to publish it a century or two earlier, he could have inspired a new religion.From the mouth of an old man about to sail away to a far away destination, we hear the wisdom of life and all important aspects of it.  It is a messege.  A guide book.  A Sufi sermon. Much is put in perspective without any hint of a dogma.  There is much that hints at his birth place, Lebanon where many of the old prophets walked the Earth and where this book project first germinated most likely.Probably becuase it was written in English originally, the writing flows, it is pleasant to read, and the charcoal drawings of the author decorating the pages is a plus.  I loved the cover.',\n",
       "  'reviewTime': '10 7, 2002',\n",
       "  'reviewerID': 'A2XQ5LZHTD4AFT',\n",
       "  'reviewerName': 'Alaturka',\n",
       "  'summary': 'A Modern Rumi',\n",
       "  'unixReviewTime': 1033948800}]"
      ]
     },
     "execution_count": 209,
     "metadata": {},
     "output_type": "execute_result"
    }
   ],
   "source": [
    "data[0:5]"
   ]
  },
  {
   "cell_type": "markdown",
   "metadata": {},
   "source": [
    "I eliminated '/n' and confirmed the elimination by printing out the first fime entires under data."
   ]
  },
  {
   "cell_type": "markdown",
   "metadata": {},
   "source": [
    "### Convert to DataFrame"
   ]
  },
  {
   "cell_type": "code",
   "execution_count": 7,
   "metadata": {},
   "outputs": [],
   "source": [
    "df = pd.DataFrame(data)"
   ]
  },
  {
   "cell_type": "code",
   "execution_count": 10,
   "metadata": {},
   "outputs": [
    {
     "data": {
      "text/html": [
       "<div>\n",
       "<style scoped>\n",
       "    .dataframe tbody tr th:only-of-type {\n",
       "        vertical-align: middle;\n",
       "    }\n",
       "\n",
       "    .dataframe tbody tr th {\n",
       "        vertical-align: top;\n",
       "    }\n",
       "\n",
       "    .dataframe thead th {\n",
       "        text-align: right;\n",
       "    }\n",
       "</style>\n",
       "<table border=\"1\" class=\"dataframe\">\n",
       "  <thead>\n",
       "    <tr style=\"text-align: right;\">\n",
       "      <th></th>\n",
       "      <th>asin</th>\n",
       "      <th>helpful</th>\n",
       "      <th>overall</th>\n",
       "      <th>reviewText</th>\n",
       "      <th>reviewTime</th>\n",
       "      <th>reviewerID</th>\n",
       "      <th>reviewerName</th>\n",
       "      <th>summary</th>\n",
       "      <th>unixReviewTime</th>\n",
       "    </tr>\n",
       "  </thead>\n",
       "  <tbody>\n",
       "    <tr>\n",
       "      <th>0</th>\n",
       "      <td>000100039X</td>\n",
       "      <td>[0, 0]</td>\n",
       "      <td>5.0</td>\n",
       "      <td>Spiritually and mentally inspiring! A book tha...</td>\n",
       "      <td>12 16, 2012</td>\n",
       "      <td>A10000012B7CGYKOMPQ4L</td>\n",
       "      <td>Adam</td>\n",
       "      <td>Wonderful!</td>\n",
       "      <td>1355616000</td>\n",
       "    </tr>\n",
       "    <tr>\n",
       "      <th>1</th>\n",
       "      <td>000100039X</td>\n",
       "      <td>[0, 2]</td>\n",
       "      <td>5.0</td>\n",
       "      <td>This is one my must have books. It is a master...</td>\n",
       "      <td>12 11, 2003</td>\n",
       "      <td>A2S166WSCFIFP5</td>\n",
       "      <td>adead_poet@hotmail.com \"adead_poet@hotmail.com\"</td>\n",
       "      <td>close to god</td>\n",
       "      <td>1071100800</td>\n",
       "    </tr>\n",
       "    <tr>\n",
       "      <th>2</th>\n",
       "      <td>000100039X</td>\n",
       "      <td>[0, 0]</td>\n",
       "      <td>5.0</td>\n",
       "      <td>This book provides a reflection that you can a...</td>\n",
       "      <td>01 18, 2014</td>\n",
       "      <td>A1BM81XB4QHOA3</td>\n",
       "      <td>Ahoro Blethends \"Seriously\"</td>\n",
       "      <td>Must Read for Life Afficianados</td>\n",
       "      <td>1390003200</td>\n",
       "    </tr>\n",
       "    <tr>\n",
       "      <th>3</th>\n",
       "      <td>000100039X</td>\n",
       "      <td>[0, 0]</td>\n",
       "      <td>5.0</td>\n",
       "      <td>I first read THE PROPHET in college back in th...</td>\n",
       "      <td>09 27, 2011</td>\n",
       "      <td>A1MOSTXNIO5MPJ</td>\n",
       "      <td>Alan Krug</td>\n",
       "      <td>Timeless for every good and bad time in your l...</td>\n",
       "      <td>1317081600</td>\n",
       "    </tr>\n",
       "    <tr>\n",
       "      <th>4</th>\n",
       "      <td>000100039X</td>\n",
       "      <td>[7, 9]</td>\n",
       "      <td>5.0</td>\n",
       "      <td>A timeless classic.  It is a very demanding an...</td>\n",
       "      <td>10 7, 2002</td>\n",
       "      <td>A2XQ5LZHTD4AFT</td>\n",
       "      <td>Alaturka</td>\n",
       "      <td>A Modern Rumi</td>\n",
       "      <td>1033948800</td>\n",
       "    </tr>\n",
       "  </tbody>\n",
       "</table>\n",
       "</div>"
      ],
      "text/plain": [
       "         asin helpful  overall  \\\n",
       "0  000100039X  [0, 0]      5.0   \n",
       "1  000100039X  [0, 2]      5.0   \n",
       "2  000100039X  [0, 0]      5.0   \n",
       "3  000100039X  [0, 0]      5.0   \n",
       "4  000100039X  [7, 9]      5.0   \n",
       "\n",
       "                                          reviewText   reviewTime  \\\n",
       "0  Spiritually and mentally inspiring! A book tha...  12 16, 2012   \n",
       "1  This is one my must have books. It is a master...  12 11, 2003   \n",
       "2  This book provides a reflection that you can a...  01 18, 2014   \n",
       "3  I first read THE PROPHET in college back in th...  09 27, 2011   \n",
       "4  A timeless classic.  It is a very demanding an...   10 7, 2002   \n",
       "\n",
       "              reviewerID                                     reviewerName  \\\n",
       "0  A10000012B7CGYKOMPQ4L                                             Adam   \n",
       "1         A2S166WSCFIFP5  adead_poet@hotmail.com \"adead_poet@hotmail.com\"   \n",
       "2         A1BM81XB4QHOA3                      Ahoro Blethends \"Seriously\"   \n",
       "3         A1MOSTXNIO5MPJ                                        Alan Krug   \n",
       "4         A2XQ5LZHTD4AFT                                         Alaturka   \n",
       "\n",
       "                                             summary  unixReviewTime  \n",
       "0                                         Wonderful!      1355616000  \n",
       "1                                       close to god      1071100800  \n",
       "2                    Must Read for Life Afficianados      1390003200  \n",
       "3  Timeless for every good and bad time in your l...      1317081600  \n",
       "4                                      A Modern Rumi      1033948800  "
      ]
     },
     "execution_count": 10,
     "metadata": {},
     "output_type": "execute_result"
    }
   ],
   "source": [
    "df.head()"
   ]
  },
  {
   "cell_type": "markdown",
   "metadata": {},
   "source": [
    "df.head() reveals the data. I am particularly interested in the 'helpful' and 'overall' columns."
   ]
  },
  {
   "cell_type": "code",
   "execution_count": 11,
   "metadata": {},
   "outputs": [
    {
     "data": {
      "text/plain": [
       "(8898041, 9)"
      ]
     },
     "execution_count": 11,
     "metadata": {},
     "output_type": "execute_result"
    }
   ],
   "source": [
    "df.shape"
   ]
  },
  {
   "cell_type": "code",
   "execution_count": 8,
   "metadata": {},
   "outputs": [],
   "source": [
    "df.to_csv('Amazon_Data_Frame.csv')"
   ]
  },
  {
   "cell_type": "markdown",
   "metadata": {},
   "source": [
    "I saved the data frame to a csv file for future reference."
   ]
  },
  {
   "cell_type": "markdown",
   "metadata": {},
   "source": [
    "# Explore Columns"
   ]
  },
  {
   "cell_type": "code",
   "execution_count": 14,
   "metadata": {},
   "outputs": [
    {
     "data": {
      "text/plain": [
       "4.2499322041784255"
      ]
     },
     "execution_count": 14,
     "metadata": {},
     "output_type": "execute_result"
    }
   ],
   "source": [
    "df.overall.mean()"
   ]
  },
  {
   "cell_type": "code",
   "execution_count": 16,
   "metadata": {},
   "outputs": [
    {
     "data": {
      "text/plain": [
       "5.0"
      ]
     },
     "execution_count": 16,
     "metadata": {},
     "output_type": "execute_result"
    }
   ],
   "source": [
    "df.overall.median()"
   ]
  },
  {
   "cell_type": "markdown",
   "metadata": {},
   "source": [
    "I personally find it stunning that the median review score is 5.0! The mean review score of 4.25 indicates a left skewed distribution."
   ]
  },
  {
   "cell_type": "code",
   "execution_count": 26,
   "metadata": {},
   "outputs": [
    {
     "data": {
      "text/html": [
       "<div>\n",
       "<style scoped>\n",
       "    .dataframe tbody tr th:only-of-type {\n",
       "        vertical-align: middle;\n",
       "    }\n",
       "\n",
       "    .dataframe tbody tr th {\n",
       "        vertical-align: top;\n",
       "    }\n",
       "\n",
       "    .dataframe thead th {\n",
       "        text-align: right;\n",
       "    }\n",
       "</style>\n",
       "<table border=\"1\" class=\"dataframe\">\n",
       "  <thead>\n",
       "    <tr style=\"text-align: right;\">\n",
       "      <th></th>\n",
       "      <th>overall</th>\n",
       "      <th>unixReviewTime</th>\n",
       "    </tr>\n",
       "  </thead>\n",
       "  <tbody>\n",
       "    <tr>\n",
       "      <th>count</th>\n",
       "      <td>8.898041e+06</td>\n",
       "      <td>8.898041e+06</td>\n",
       "    </tr>\n",
       "    <tr>\n",
       "      <th>mean</th>\n",
       "      <td>4.249932e+00</td>\n",
       "      <td>1.320212e+09</td>\n",
       "    </tr>\n",
       "    <tr>\n",
       "      <th>std</th>\n",
       "      <td>1.057733e+00</td>\n",
       "      <td>1.018516e+08</td>\n",
       "    </tr>\n",
       "    <tr>\n",
       "      <th>min</th>\n",
       "      <td>1.000000e+00</td>\n",
       "      <td>8.325504e+08</td>\n",
       "    </tr>\n",
       "    <tr>\n",
       "      <th>25%</th>\n",
       "      <td>4.000000e+00</td>\n",
       "      <td>1.296864e+09</td>\n",
       "    </tr>\n",
       "    <tr>\n",
       "      <th>50%</th>\n",
       "      <td>5.000000e+00</td>\n",
       "      <td>1.362182e+09</td>\n",
       "    </tr>\n",
       "    <tr>\n",
       "      <th>75%</th>\n",
       "      <td>5.000000e+00</td>\n",
       "      <td>1.385942e+09</td>\n",
       "    </tr>\n",
       "    <tr>\n",
       "      <th>max</th>\n",
       "      <td>5.000000e+00</td>\n",
       "      <td>1.406074e+09</td>\n",
       "    </tr>\n",
       "  </tbody>\n",
       "</table>\n",
       "</div>"
      ],
      "text/plain": [
       "            overall  unixReviewTime\n",
       "count  8.898041e+06    8.898041e+06\n",
       "mean   4.249932e+00    1.320212e+09\n",
       "std    1.057733e+00    1.018516e+08\n",
       "min    1.000000e+00    8.325504e+08\n",
       "25%    4.000000e+00    1.296864e+09\n",
       "50%    5.000000e+00    1.362182e+09\n",
       "75%    5.000000e+00    1.385942e+09\n",
       "max    5.000000e+00    1.406074e+09"
      ]
     },
     "execution_count": 26,
     "metadata": {},
     "output_type": "execute_result"
    }
   ],
   "source": [
    "df.describe()"
   ]
  },
  {
   "cell_type": "markdown",
   "metadata": {},
   "source": [
    "75% of reviewers giving a scoredof 4.0 or higher is telling"
   ]
  },
  {
   "cell_type": "markdown",
   "metadata": {},
   "source": [
    "### Explore Column Types"
   ]
  },
  {
   "cell_type": "code",
   "execution_count": 19,
   "metadata": {},
   "outputs": [
    {
     "data": {
      "text/plain": [
       "list"
      ]
     },
     "execution_count": 19,
     "metadata": {},
     "output_type": "execute_result"
    }
   ],
   "source": [
    "type(df.helpful[0])"
   ]
  },
  {
   "cell_type": "code",
   "execution_count": 23,
   "metadata": {},
   "outputs": [
    {
     "data": {
      "text/plain": [
       "int"
      ]
     },
     "execution_count": 23,
     "metadata": {},
     "output_type": "execute_result"
    }
   ],
   "source": [
    "type(df.helpful[0][0])"
   ]
  },
  {
   "cell_type": "markdown",
   "metadata": {},
   "source": [
    "The helpful column is a list of ints, as expected. It is presumably [helpfulVotes, totalVotes]. I know that Amazon only shows helpfulVotes on their website."
   ]
  },
  {
   "cell_type": "code",
   "execution_count": 20,
   "metadata": {},
   "outputs": [
    {
     "data": {
      "text/plain": [
       "str"
      ]
     },
     "execution_count": 20,
     "metadata": {},
     "output_type": "execute_result"
    }
   ],
   "source": [
    "type(df.reviewTime[0])"
   ]
  },
  {
   "cell_type": "markdown",
   "metadata": {},
   "source": [
    "I was not expecting the reviewTime to be a string."
   ]
  },
  {
   "cell_type": "code",
   "execution_count": 21,
   "metadata": {},
   "outputs": [
    {
     "data": {
      "text/plain": [
       "numpy.int64"
      ]
     },
     "execution_count": 21,
     "metadata": {},
     "output_type": "execute_result"
    }
   ],
   "source": [
    "type(df.unixReviewTime[0])"
   ]
  },
  {
   "cell_type": "code",
   "execution_count": 25,
   "metadata": {},
   "outputs": [
    {
     "name": "stdout",
     "output_type": "stream",
     "text": [
      "<class 'pandas.core.frame.DataFrame'>\n",
      "RangeIndex: 8898041 entries, 0 to 8898040\n",
      "Data columns (total 9 columns):\n",
      "asin              object\n",
      "helpful           object\n",
      "overall           float64\n",
      "reviewText        object\n",
      "reviewTime        object\n",
      "reviewerID        object\n",
      "reviewerName      object\n",
      "summary           object\n",
      "unixReviewTime    int64\n",
      "dtypes: float64(1), int64(1), object(7)\n",
      "memory usage: 611.0+ MB\n"
     ]
    }
   ],
   "source": [
    "df.info()"
   ]
  },
  {
   "cell_type": "markdown",
   "metadata": {},
   "source": [
    "# Graph Preliminary Data"
   ]
  },
  {
   "cell_type": "code",
   "execution_count": 27,
   "metadata": {},
   "outputs": [],
   "source": [
    " import matplotlib.pyplot as plt"
   ]
  },
  {
   "cell_type": "markdown",
   "metadata": {},
   "source": [
    "## Overall Review Score Box Plot"
   ]
  },
  {
   "cell_type": "code",
   "execution_count": 213,
   "metadata": {},
   "outputs": [
    {
     "data": {
      "image/png": "[encoded data removed]",
      "text/plain": [
       "<matplotlib.figure.Figure at 0x4cb0ecdd8>"
      ]
     },
     "metadata": {},
     "output_type": "display_data"
    }
   ],
   "source": [
    "df.plot(y='overall', kind='box')\n",
    "plt.ylabel('review score')\n",
    "plt.title('Amazon Book Review Score Distribution')\n",
    "plt.show()"
   ]
  },
  {
   "cell_type": "markdown",
   "metadata": {},
   "source": [
    "Even though there are only 5 possible review scores, 2.0 and 1.0 are outliers! This is the definition of a top-heavy box. (I don't know if that's a real term.) "
   ]
  },
  {
   "cell_type": "markdown",
   "metadata": {},
   "source": [
    "## Overall Review Score Histogram"
   ]
  },
  {
   "cell_type": "code",
   "execution_count": 328,
   "metadata": {},
   "outputs": [
    {
     "data": {
      "image/png": "[encoded data removed]",
      "text/plain": [
       "<matplotlib.figure.Figure at 0x4ce319518>"
      ]
     },
     "metadata": {},
     "output_type": "display_data"
    }
   ],
   "source": [
    "df.plot(y='overall', kind='hist', normed=True)\n",
    "plt.xlabel('Review Score')\n",
    "plt.title('Frequency of Ratings')\n",
    "plt.show()"
   ]
  },
  {
   "cell_type": "markdown",
   "metadata": {},
   "source": [
    "The tops of the bars seem to make a nice curve. The histogram reinforces a top-heavy rating system."
   ]
  },
  {
   "cell_type": "markdown",
   "metadata": {},
   "source": [
    "## Overall ECDF"
   ]
  },
  {
   "cell_type": "code",
   "execution_count": 317,
   "metadata": {},
   "outputs": [],
   "source": [
    "def ecdf(data):\n",
    "    \"\"\"Compute ECDF for a one-dimensional array of measurements.\"\"\"\n",
    "\n",
    "    # Number of data points: n\n",
    "    n = len(data)\n",
    "\n",
    "    # x-data for the ECDF: x\n",
    "    x = np.sort(data)\n",
    "\n",
    "    # y-data for the ECDF: y\n",
    "    y = np.arange(1, n+1) / n\n",
    "\n",
    "    return x, y"
   ]
  },
  {
   "cell_type": "code",
   "execution_count": 327,
   "metadata": {},
   "outputs": [
    {
     "data": {
      "text/plain": [
       "Text(0.5,1,'Frequency of Ratings')"
      ]
     },
     "execution_count": 327,
     "metadata": {},
     "output_type": "execute_result"
    },
    {
     "data": {
      "image/png": "[encoded data removed]",
      "text/plain": [
       "<matplotlib.figure.Figure at 0x4ce276438>"
      ]
     },
     "metadata": {},
     "output_type": "display_data"
    }
   ],
   "source": [
    "# Compute ECDF for star rating\n",
    "x, y = ecdf(df_sub.overall)\n",
    "\n",
    "# Generate plot\n",
    "plt.plot(x, y, marker='.', linestyle='none')\n",
    "\n",
    "# Label the axes\n",
    "plt.xlabel('star rating')\n",
    "plt.ylabel('ECDF')\n",
    "plt.title('Frequency of Ratings')"
   ]
  },
  {
   "cell_type": "markdown",
   "metadata": {},
   "source": [
    "The ECDF is a little more telling that the histogram. The total percentage of each rating is more clear."
   ]
  },
  {
   "cell_type": "markdown",
   "metadata": {},
   "source": [
    "# Explore 'Helpful' Column"
   ]
  },
  {
   "cell_type": "markdown",
   "metadata": {},
   "source": [
    "Converting a column of lists into usable data was trickier than expected. I used Stack Overflow and Springboard mentors to smooth out the process. I started with np_arrays."
   ]
  },
  {
   "cell_type": "markdown",
   "metadata": {},
   "source": [
    "## Compute 'Helpful' Percentage: 100 data points"
   ]
  },
  {
   "cell_type": "code",
   "execution_count": 218,
   "metadata": {},
   "outputs": [
    {
     "name": "stdout",
     "output_type": "stream",
     "text": [
      "Helpful Votes: 203\n",
      "Total Votes: 283\n"
     ]
    }
   ],
   "source": [
    "import numpy as np\n",
    "\n",
    "#these arrays will be populated with the first and second member of the helpful column\n",
    "helpfulVotes = []\n",
    "totalVotes = []\n",
    "\n",
    "#iterrows is used to loop through each row\n",
    "for item, row in df[:100].iterrows():\n",
    "    helpfulVotes.append(row['helpful'][0])\n",
    "    totalVotes.append(row['helpful'][1])\n",
    "    \n",
    "#converting to an np.array to leverage speed and built-in functions\n",
    "np_helpfulVotes = np.array(helpfulVotes)\n",
    "np_totalVotes = np.array(totalVotes)\n",
    "\n",
    "#add up the lenghts of each array\n",
    "helpfulVotes_sum = np_helpfulVotes.sum()\n",
    "totalVotes_sum = np_totalVotes.sum()\n",
    "print('Helpful Votes:', helpfulVotes_sum)\n",
    "print('Total Votes:', totalVotes_sum)"
   ]
  },
  {
   "cell_type": "code",
   "execution_count": 222,
   "metadata": {},
   "outputs": [
    {
     "name": "stdout",
     "output_type": "stream",
     "text": [
      "Percentage of Helpful Votes: 0.7426197720523914\n"
     ]
    }
   ],
   "source": [
    "#finally, generate the total percentage\n",
    "percentage_helpful = helpfulVotes_sum/totalVotes_sum\n",
    "print('Percentage of Helpful Votes:', percentage_helpful)"
   ]
  },
  {
   "cell_type": "markdown",
   "metadata": {},
   "source": [
    "## Compute 'Helpful' Percentage: all data points"
   ]
  },
  {
   "cell_type": "markdown",
   "metadata": {},
   "source": [
    "I repeate the same process, this time for the entire DatFrame."
   ]
  },
  {
   "cell_type": "code",
   "execution_count": 221,
   "metadata": {},
   "outputs": [
    {
     "name": "stdout",
     "output_type": "stream",
     "text": [
      "Helpful Votes: 26763522\n",
      "Total Votes: 36039334\n",
      "Percentage of Helpful Votes: 0.7426197720523914\n"
     ]
    }
   ],
   "source": [
    "helpfulVotes = []\n",
    "totalVotes = []\n",
    "\n",
    "for item, row in df.iterrows():\n",
    "    helpfulVotes.append(row['helpful'][0])\n",
    "    totalVotes.append(row['helpful'][1])\n",
    "np_helpfulVotes = np.array(helpfulVotes)\n",
    "np_totalVotes = np.array(totalVotes)\n",
    "\n",
    "helpfulVotes_sum = np_helpfulVotes.sum()\n",
    "totalVotes_sum = np_totalVotes.sum()\n",
    "\n",
    "print('Helpful Votes:', helpfulVotes_sum)\n",
    "print('Total Votes:', totalVotes_sum)\n",
    "\n",
    "percentage_helpful = helpfulVotes_sum/totalVotes_sum\n",
    "print('Percentage of Helpful Votes:', percentage_helpful)"
   ]
  },
  {
   "cell_type": "markdown",
   "metadata": {},
   "source": [
    "## Compute 'Helpful' Percentage: 10000 data points"
   ]
  },
  {
   "cell_type": "markdown",
   "metadata": {},
   "source": [
    "Since the above calculation took so long, I decided to switch to a smaller subset for general testing."
   ]
  },
  {
   "cell_type": "code",
   "execution_count": 19,
   "metadata": {},
   "outputs": [],
   "source": [
    "df_sub = df[:10000]"
   ]
  },
  {
   "cell_type": "markdown",
   "metadata": {},
   "source": [
    "I ran the same test again. I really should turn this into a function. It's never a good idea to copy and past once, let alone twice. (I was thinking of using the separate arrays later.)"
   ]
  },
  {
   "cell_type": "code",
   "execution_count": 223,
   "metadata": {},
   "outputs": [
    {
     "name": "stdout",
     "output_type": "stream",
     "text": [
      "Helpful Votes: 42103\n",
      "Total Votes: 62072\n",
      "Percentage of Helpful Votes: 0.6782929501224385\n"
     ]
    }
   ],
   "source": [
    "sub_helpfulVotes = []\n",
    "sub_totalVotes = []\n",
    "\n",
    "for item, row in df_sub.iterrows():\n",
    "    sub_helpfulVotes.append(row['helpful'][0])\n",
    "    sub_totalVotes.append(row['helpful'][1])\n",
    "np_sub_helpfulVotes = np.array(sub_helpfulVotes)\n",
    "np_sub_totalVotes = np.array(sub_totalVotes)\n",
    "\n",
    "sub_helpfulVotes_sum = np_sub_helpfulVotes.sum()\n",
    "sub_totalVotes_sum = np_sub_totalVotes.sum()\n",
    "\n",
    "print('Helpful Votes:', sub_helpfulVotes_sum)\n",
    "print('Total Votes:', sub_totalVotes_sum)\n",
    "\n",
    "sub_percentage_helpful = sub_helpfulVotes_sum/sub_totalVotes_sum\n",
    "print('Percentage of Helpful Votes:', sub_percentage_helpful)"
   ]
  },
  {
   "cell_type": "markdown",
   "metadata": {},
   "source": [
    "## Display Percentage of Helpful Votes Scatter Plot"
   ]
  },
  {
   "cell_type": "code",
   "execution_count": 245,
   "metadata": {},
   "outputs": [
    {
     "data": {
      "image/png": "[encoded data removed]",
      "text/plain": [
       "<matplotlib.figure.Figure at 0x4bf211908>"
      ]
     },
     "metadata": {},
     "output_type": "display_data"
    }
   ],
   "source": [
    "y = np_sub_helpfulVotes\n",
    "x = np_sub_totalVotes\n",
    "\n",
    "plt.ylabel('Helpful Votes')\n",
    "plt.xlabel('Total Votes')\n",
    "plt.title('Total Votes / Helpful Votes Scatter Plot')\n",
    "\n",
    "plt.scatter(x,y)\n",
    "\n",
    "#Since helpful votes cannot exceed total votes, the cyan line represents a maximum. \n",
    "#All dots must be underneath the line\n",
    "maxLine, = plt.plot(x, x, 'cyan', label='max')\n",
    "\n",
    "#The purple line is the expected value of helpful votes\n",
    "expectedLine, = plt.plot(x, percentage_helpful*x, 'purple', label='expected')\n",
    "\n",
    "plt.legend(handles=[maxLine, expectedLine])\n",
    "plt.show()"
   ]
  },
  {
   "cell_type": "markdown",
   "metadata": {},
   "source": [
    "This is beautifully linear!! Data points with lots of votes are generally more helpful than expected. "
   ]
  },
  {
   "cell_type": "markdown",
   "metadata": {},
   "source": [
    "### Zoom in on Total Votes"
   ]
  },
  {
   "cell_type": "code",
   "execution_count": 332,
   "metadata": {},
   "outputs": [
    {
     "data": {
      "image/png": "[encoded data removed]",
      "text/plain": [
       "<matplotlib.figure.Figure at 0x4d2f2c9e8>"
      ]
     },
     "metadata": {},
     "output_type": "display_data"
    },
    {
     "data": {
      "image/png": "[encoded data removed]",
      "text/plain": [
       "<matplotlib.figure.Figure at 0x4d2f78f60>"
      ]
     },
     "metadata": {},
     "output_type": "display_data"
    }
   ],
   "source": [
    "y = np_sub_helpfulVotes\n",
    "x = np_sub_totalVotes\n",
    "\n",
    "plt.ylabel('Helpful Votes')\n",
    "plt.xlabel('Total Votes')\n",
    "plt.title('Total Votes / Helpful Votes Scatter Plot')\n",
    "\n",
    "plt.scatter(x,y)\n",
    "\n",
    "#Since helpful votes cannot exceed total votes, the cyan line represents a maximum. \n",
    "#All dots must be underneath the line\n",
    "maxLine, = plt.plot(x, x, 'cyan', label='max')\n",
    "\n",
    "#The purple line is the expected value of helpful votes\n",
    "expectedLine, = plt.plot(x, percentage_helpful*x, 'purple', label='expected')\n",
    "\n",
    "plt.legend(handles=[maxLine, expectedLine])\n",
    "plt.xlim(0,200)\n",
    "plt.ylim(0,200)\n",
    "plt.show()\n",
    "\n",
    "\n",
    "##Generate second plot.\n",
    "\n",
    "plt.ylabel('Helpful Votes')\n",
    "plt.xlabel('Total Votes')\n",
    "plt.title('Total Votes / Helpful Votes Scatter Plot')\n",
    "\n",
    "plt.scatter(x,y)\n",
    "\n",
    "#Since helpful votes cannot exceed total votes, the cyan line represents a maximum. \n",
    "#All dots must be underneath the line\n",
    "maxLine, = plt.plot(x, x, 'cyan', label='max')\n",
    "\n",
    "#The purple line is the expected value of helpful votes\n",
    "expectedLine, = plt.plot(x, percentage_helpful*x, 'purple', label='expected')\n",
    "\n",
    "plt.legend(handles=[maxLine, expectedLine])\n",
    "plt.xlim(0,50)\n",
    "plt.ylim(0,50)\n",
    "plt.show()"
   ]
  },
  {
   "cell_type": "markdown",
   "metadata": {},
   "source": [
    "When Total Votes are low, the data is less clear. Correlations will be helpful later on."
   ]
  },
  {
   "cell_type": "markdown",
   "metadata": {},
   "source": [
    "## Remove data points where no helpful vote has been cast"
   ]
  },
  {
   "cell_type": "code",
   "execution_count": 30,
   "metadata": {},
   "outputs": [],
   "source": [
    "sub_helpfulVotes_reduced = []\n",
    "sub_totalVotes_reduced = []\n",
    "\n",
    "for item, row in df_sub.iterrows():\n",
    "    if row['helpful'][1] != 0:\n",
    "        sub_helpfulVotes_reduced.append(row['helpful'][0])\n",
    "        sub_totalVotes_reduced.append(row['helpful'][1])\n",
    "np_sub_helpfulVotes_reduced = np.array(sub_helpfulVotes_reduced)\n",
    "np_sub_totalVotes_reduced = np.array(sub_totalVotes_reduced)"
   ]
  },
  {
   "cell_type": "markdown",
   "metadata": {},
   "source": [
    "Data points with no helpful votes will be used later to avoid division by zero"
   ]
  },
  {
   "cell_type": "markdown",
   "metadata": {},
   "source": [
    "## Plot helpful votes v unhelpful votes"
   ]
  },
  {
   "cell_type": "markdown",
   "metadata": {},
   "source": [
    "I wanted to create a plot whose points could fall anywhere. Comparing total votes to helpful votes eliminates half of the axis."
   ]
  },
  {
   "cell_type": "code",
   "execution_count": 275,
   "metadata": {},
   "outputs": [
    {
     "data": {
      "image/png": "[encoded data removed]",
      "text/plain": [
       "<matplotlib.figure.Figure at 0x4ccb08978>"
      ]
     },
     "metadata": {},
     "output_type": "display_data"
    }
   ],
   "source": [
    "# I decided to use the reduced arrays. \n",
    "# They ignore votes where no helpful or unhelpful vote has been cast\n",
    "x = np_sub_helpfulVotes_reduced\n",
    "y = np_sub_totalVotes_reduced - np_sub_helpfulVotes_reduced\n",
    "\n",
    "plt.scatter(x,y)\n",
    "plt.title('Comparing Helpful to Unhelpful Votes')\n",
    "plt.xlabel('Helpful Votes')\n",
    "plt.ylabel('Unhelpful Votes')\n",
    "\n",
    "expectedLine, = plt.plot(x, (1-percentage_helpful)/percentage_helpful*x,'purple', label='expected')\n",
    "plt.legend(handles=[expectedLine])\n",
    "plt.show()"
   ]
  },
  {
   "cell_type": "markdown",
   "metadata": {},
   "source": [
    "This plot is very clustered near the origin. The pattern is less clear."
   ]
  },
  {
   "cell_type": "markdown",
   "metadata": {},
   "source": [
    "## Helpful v Unhelpful Subplots"
   ]
  },
  {
   "cell_type": "code",
   "execution_count": 276,
   "metadata": {},
   "outputs": [
    {
     "data": {
      "image/png": "[encoded data removed]",
      "text/plain": [
       "<matplotlib.figure.Figure at 0x4cd366940>"
      ]
     },
     "metadata": {},
     "output_type": "display_data"
    }
   ],
   "source": [
    "plt.subplot(2,1,1)\n",
    "x = np_sub_helpfulVotes_reduced\n",
    "y = np_sub_totalVotes_reduced - np_sub_helpfulVotes_reduced\n",
    "plt.scatter(x,y)\n",
    "expectedLine, = plt.plot(x, (1-percentage_helpful)/percentage_helpful*x,'purple', label='expected')\n",
    "plt.legend(handles=[expectedLine])\n",
    "plt.xlabel('Helpful Votes')\n",
    "plt.ylabel('Unhelpful Votes')\n",
    "plt.title('Comparing Helpful and Unhelpful Votes')\n",
    "plt.xlim(0,220)\n",
    "plt.ylim(0,220)\n",
    "\n",
    "plt.subplot(2,1,2)\n",
    "x = np_sub_helpfulVotes_reduced\n",
    "y = np_sub_totalVotes_reduced - np_sub_helpfulVotes_reduced\n",
    "plt.scatter(x,y)\n",
    "plt.plot(x, (1-percentage_helpful)/percentage_helpful*x,'purple')\n",
    "plt.xlabel('Helpful Votes')\n",
    "plt.ylabel('Unhelpful Votes')\n",
    "plt.xlim(0,40)\n",
    "plt.ylim(0,40)\n",
    "\n",
    "plt.tight_layout\n",
    "plt.show()\n"
   ]
  },
  {
   "cell_type": "markdown",
   "metadata": {},
   "source": [
    "The pattern indcates that as helpful votes go up, unhelpful votes go down."
   ]
  },
  {
   "cell_type": "markdown",
   "metadata": {},
   "source": [
    "# Explore Length of Review"
   ]
  },
  {
   "cell_type": "code",
   "execution_count": 90,
   "metadata": {},
   "outputs": [
    {
     "data": {
      "text/plain": [
       "str"
      ]
     },
     "execution_count": 90,
     "metadata": {},
     "output_type": "execute_result"
    }
   ],
   "source": [
    "type(df_sub['reviewText'][0])"
   ]
  },
  {
   "cell_type": "code",
   "execution_count": 91,
   "metadata": {},
   "outputs": [
    {
     "data": {
      "text/plain": [
       "129"
      ]
     },
     "execution_count": 91,
     "metadata": {},
     "output_type": "execute_result"
    }
   ],
   "source": [
    "len(df_sub['reviewText'][0])"
   ]
  },
  {
   "cell_type": "markdown",
   "metadata": {},
   "source": [
    "### Compute Mean Length of Review"
   ]
  },
  {
   "cell_type": "code",
   "execution_count": 268,
   "metadata": {
    "scrolled": true
   },
   "outputs": [
    {
     "name": "stdout",
     "output_type": "stream",
     "text": [
      "Mean Review Length: 144.5853\n"
     ]
    }
   ],
   "source": [
    "length_of_review = []\n",
    "for item, row in df_sub.iterrows():\n",
    "    length_of_review.append(len(row['reviewText'].split()))\n",
    "np_length_of_review = np.array(length_of_review)\n",
    "print('Mean Review Length:',np_length_of_review.mean())"
   ]
  },
  {
   "cell_type": "markdown",
   "metadata": {},
   "source": [
    "145 words is roughly 10 sentences. I thought it might be lower."
   ]
  },
  {
   "cell_type": "markdown",
   "metadata": {},
   "source": [
    "### Turn Length of Review into Column"
   ]
  },
  {
   "cell_type": "code",
   "execution_count": 104,
   "metadata": {},
   "outputs": [
    {
     "name": "stderr",
     "output_type": "stream",
     "text": [
      "/anaconda3/lib/python3.6/site-packages/ipykernel_launcher.py:1: SettingWithCopyWarning: \n",
      "A value is trying to be set on a copy of a slice from a DataFrame.\n",
      "Try using .loc[row_indexer,col_indexer] = value instead\n",
      "\n",
      "See the caveats in the documentation: http://pandas.pydata.org/pandas-docs/stable/indexing.html#indexing-view-versus-copy\n",
      "  \"\"\"Entry point for launching an IPython kernel.\n"
     ]
    }
   ],
   "source": [
    "df_sub['reviewLength']=np_length_of_review"
   ]
  },
  {
   "cell_type": "code",
   "execution_count": 257,
   "metadata": {},
   "outputs": [
    {
     "data": {
      "text/html": [
       "<div>\n",
       "<style scoped>\n",
       "    .dataframe tbody tr th:only-of-type {\n",
       "        vertical-align: middle;\n",
       "    }\n",
       "\n",
       "    .dataframe tbody tr th {\n",
       "        vertical-align: top;\n",
       "    }\n",
       "\n",
       "    .dataframe thead th {\n",
       "        text-align: right;\n",
       "    }\n",
       "</style>\n",
       "<table border=\"1\" class=\"dataframe\">\n",
       "  <thead>\n",
       "    <tr style=\"text-align: right;\">\n",
       "      <th></th>\n",
       "      <th>asin</th>\n",
       "      <th>helpful</th>\n",
       "      <th>overall</th>\n",
       "      <th>reviewText</th>\n",
       "      <th>reviewTime</th>\n",
       "      <th>reviewerID</th>\n",
       "      <th>reviewerName</th>\n",
       "      <th>summary</th>\n",
       "      <th>unixReviewTime</th>\n",
       "      <th>reviewLength</th>\n",
       "      <th>TotalVotes</th>\n",
       "      <th>helpfulVotes</th>\n",
       "      <th>totalVotes</th>\n",
       "    </tr>\n",
       "  </thead>\n",
       "  <tbody>\n",
       "    <tr>\n",
       "      <th>0</th>\n",
       "      <td>000100039X</td>\n",
       "      <td>[0, 0]</td>\n",
       "      <td>5.0</td>\n",
       "      <td>Spiritually and mentally inspiring! A book tha...</td>\n",
       "      <td>12 16, 2012</td>\n",
       "      <td>A10000012B7CGYKOMPQ4L</td>\n",
       "      <td>Adam</td>\n",
       "      <td>Wonderful!</td>\n",
       "      <td>1355616000</td>\n",
       "      <td>22</td>\n",
       "      <td>0</td>\n",
       "      <td>0</td>\n",
       "      <td>0</td>\n",
       "    </tr>\n",
       "    <tr>\n",
       "      <th>1</th>\n",
       "      <td>000100039X</td>\n",
       "      <td>[0, 2]</td>\n",
       "      <td>5.0</td>\n",
       "      <td>This is one my must have books. It is a master...</td>\n",
       "      <td>12 11, 2003</td>\n",
       "      <td>A2S166WSCFIFP5</td>\n",
       "      <td>adead_poet@hotmail.com \"adead_poet@hotmail.com\"</td>\n",
       "      <td>close to god</td>\n",
       "      <td>1071100800</td>\n",
       "      <td>49</td>\n",
       "      <td>2</td>\n",
       "      <td>0</td>\n",
       "      <td>2</td>\n",
       "    </tr>\n",
       "    <tr>\n",
       "      <th>2</th>\n",
       "      <td>000100039X</td>\n",
       "      <td>[0, 0]</td>\n",
       "      <td>5.0</td>\n",
       "      <td>This book provides a reflection that you can a...</td>\n",
       "      <td>01 18, 2014</td>\n",
       "      <td>A1BM81XB4QHOA3</td>\n",
       "      <td>Ahoro Blethends \"Seriously\"</td>\n",
       "      <td>Must Read for Life Afficianados</td>\n",
       "      <td>1390003200</td>\n",
       "      <td>40</td>\n",
       "      <td>0</td>\n",
       "      <td>0</td>\n",
       "      <td>0</td>\n",
       "    </tr>\n",
       "    <tr>\n",
       "      <th>3</th>\n",
       "      <td>000100039X</td>\n",
       "      <td>[0, 0]</td>\n",
       "      <td>5.0</td>\n",
       "      <td>I first read THE PROPHET in college back in th...</td>\n",
       "      <td>09 27, 2011</td>\n",
       "      <td>A1MOSTXNIO5MPJ</td>\n",
       "      <td>Alan Krug</td>\n",
       "      <td>Timeless for every good and bad time in your l...</td>\n",
       "      <td>1317081600</td>\n",
       "      <td>154</td>\n",
       "      <td>0</td>\n",
       "      <td>0</td>\n",
       "      <td>0</td>\n",
       "    </tr>\n",
       "    <tr>\n",
       "      <th>4</th>\n",
       "      <td>000100039X</td>\n",
       "      <td>[7, 9]</td>\n",
       "      <td>5.0</td>\n",
       "      <td>A timeless classic.  It is a very demanding an...</td>\n",
       "      <td>10 7, 2002</td>\n",
       "      <td>A2XQ5LZHTD4AFT</td>\n",
       "      <td>Alaturka</td>\n",
       "      <td>A Modern Rumi</td>\n",
       "      <td>1033948800</td>\n",
       "      <td>150</td>\n",
       "      <td>9</td>\n",
       "      <td>7</td>\n",
       "      <td>9</td>\n",
       "    </tr>\n",
       "  </tbody>\n",
       "</table>\n",
       "</div>"
      ],
      "text/plain": [
       "         asin helpful  overall  \\\n",
       "0  000100039X  [0, 0]      5.0   \n",
       "1  000100039X  [0, 2]      5.0   \n",
       "2  000100039X  [0, 0]      5.0   \n",
       "3  000100039X  [0, 0]      5.0   \n",
       "4  000100039X  [7, 9]      5.0   \n",
       "\n",
       "                                          reviewText   reviewTime  \\\n",
       "0  Spiritually and mentally inspiring! A book tha...  12 16, 2012   \n",
       "1  This is one my must have books. It is a master...  12 11, 2003   \n",
       "2  This book provides a reflection that you can a...  01 18, 2014   \n",
       "3  I first read THE PROPHET in college back in th...  09 27, 2011   \n",
       "4  A timeless classic.  It is a very demanding an...   10 7, 2002   \n",
       "\n",
       "              reviewerID                                     reviewerName  \\\n",
       "0  A10000012B7CGYKOMPQ4L                                             Adam   \n",
       "1         A2S166WSCFIFP5  adead_poet@hotmail.com \"adead_poet@hotmail.com\"   \n",
       "2         A1BM81XB4QHOA3                      Ahoro Blethends \"Seriously\"   \n",
       "3         A1MOSTXNIO5MPJ                                        Alan Krug   \n",
       "4         A2XQ5LZHTD4AFT                                         Alaturka   \n",
       "\n",
       "                                             summary  unixReviewTime  \\\n",
       "0                                         Wonderful!      1355616000   \n",
       "1                                       close to god      1071100800   \n",
       "2                    Must Read for Life Afficianados      1390003200   \n",
       "3  Timeless for every good and bad time in your l...      1317081600   \n",
       "4                                      A Modern Rumi      1033948800   \n",
       "\n",
       "   reviewLength  TotalVotes  helpfulVotes  totalVotes  \n",
       "0            22           0             0           0  \n",
       "1            49           2             0           2  \n",
       "2            40           0             0           0  \n",
       "3           154           0             0           0  \n",
       "4           150           9             7           9  "
      ]
     },
     "execution_count": 257,
     "metadata": {},
     "output_type": "execute_result"
    }
   ],
   "source": [
    "df_sub.head()"
   ]
  },
  {
   "cell_type": "markdown",
   "metadata": {},
   "source": [
    "This appears to have worked despite the warning."
   ]
  },
  {
   "cell_type": "markdown",
   "metadata": {},
   "source": [
    "### Scatter Plot: Length of Review v Percentage of Helpful Votes"
   ]
  },
  {
   "cell_type": "markdown",
   "metadata": {},
   "source": [
    "Since percentage of helpful votes is only relevant when votes have been cast, I need a reduced array of review length to match."
   ]
  },
  {
   "cell_type": "code",
   "execution_count": 270,
   "metadata": {},
   "outputs": [
    {
     "name": "stdout",
     "output_type": "stream",
     "text": [
      "Mean Review Length: 164.79332961205694\n"
     ]
    }
   ],
   "source": [
    "length_of_review_reduced = []\n",
    "for item, row in df_sub.iterrows():\n",
    "    if row['helpful'][1] != 0:\n",
    "        length_of_review_reduced.append(len(row['reviewText'].split()))\n",
    "np_length_of_review_reduced = np.array(length_of_review_reduced)\n",
    "print('Mean Review Length:', np_length_of_review_reduced.mean())"
   ]
  },
  {
   "cell_type": "markdown",
   "metadata": {},
   "source": [
    "This is interesting. Reviews that are receiving votes are generally longer than those that aren't."
   ]
  },
  {
   "cell_type": "markdown",
   "metadata": {},
   "source": [
    "#### Generating Plot"
   ]
  },
  {
   "cell_type": "code",
   "execution_count": 333,
   "metadata": {},
   "outputs": [
    {
     "data": {
      "image/png": "[encoded data removed]",
      "text/plain": [
       "<matplotlib.figure.Figure at 0x4ce58bd68>"
      ]
     },
     "metadata": {},
     "output_type": "display_data"
    }
   ],
   "source": [
    "x = np_length_of_review_reduced\n",
    "y = np_sub_helpfulVotes_reduced/np_sub_totalVotes_reduced\n",
    "plt.title('Are Longer Reviews More Helpful?')\n",
    "plt.ylim(0,1)\n",
    "plt.xlabel('Length of Review')\n",
    "plt.ylabel('Percentage of Helpful Votes')\n",
    "plt.scatter(x,y)\n",
    "plt.show()"
   ]
  },
  {
   "cell_type": "markdown",
   "metadata": {},
   "source": [
    " There does not appear to be a strong correlation between length of review and helpful percentage. This surprises me a bit. I had figured longer reviews would be considered more helpful. (Correlations will be computed later.) It appears that users are less likely to find reviews helpful that are unusually long."
   ]
  },
  {
   "cell_type": "markdown",
   "metadata": {},
   "source": [
    "#### Generating 2nd plot for comparison"
   ]
  },
  {
   "cell_type": "code",
   "execution_count": 277,
   "metadata": {},
   "outputs": [
    {
     "data": {
      "image/png": "[encoded data removed]",
      "text/plain": [
       "<matplotlib.figure.Figure at 0x4cd37e898>"
      ]
     },
     "metadata": {},
     "output_type": "display_data"
    }
   ],
   "source": [
    "x = np_length_of_review_reduced\n",
    "y = np_sub_helpfulVotes_reduced/np_sub_totalVotes_reduced\n",
    "plt.title('Are Longer Reviews More Helpful?')\n",
    "plt.xlim(0,225)\n",
    "plt.ylim(0,1.1)\n",
    "plt.xlabel('Length of Review')\n",
    "plt.ylabel('Percentage of Helpful Votes')\n",
    "plt.scatter(x,y)\n",
    "plt.show()"
   ]
  },
  {
   "cell_type": "markdown",
   "metadata": {},
   "source": [
    "There does appear to be a positive correlation. The longer the review, the more likely it is that users find the review helpful."
   ]
  },
  {
   "cell_type": "markdown",
   "metadata": {},
   "source": [
    "#### A third plot"
   ]
  },
  {
   "cell_type": "markdown",
   "metadata": {},
   "source": [
    "I tend to check a lot of plots to try and find something striking. I'm only saving those that add something new."
   ]
  },
  {
   "cell_type": "code",
   "execution_count": 296,
   "metadata": {},
   "outputs": [
    {
     "data": {
      "image/png": "[encoded data removed]",
      "text/plain": [
       "<matplotlib.figure.Figure at 0x4cd78f8d0>"
      ]
     },
     "metadata": {},
     "output_type": "display_data"
    }
   ],
   "source": [
    "y = np_length_of_review_reduced\n",
    "x = np_sub_helpfulVotes_reduced/np_sub_totalVotes_reduced\n",
    "plt.title('Are More Helpful Reviews Longer?')\n",
    "plt.ylabel('Length of Review')\n",
    "plt.xlabel('Percentage of Helpful Votes')\n",
    "plt.plot(x, y, marker='.', linestyle='none')\n",
    "plt.show()"
   ]
  },
  {
   "cell_type": "markdown",
   "metadata": {},
   "source": [
    "An error! The percentage of helpful votes should not be over 100. Should I delete the point? Change the data?"
   ]
  },
  {
   "cell_type": "markdown",
   "metadata": {},
   "source": [
    "#### Finding the culprit"
   ]
  },
  {
   "cell_type": "code",
   "execution_count": 207,
   "metadata": {},
   "outputs": [
    {
     "data": {
      "text/html": [
       "<div>\n",
       "<style scoped>\n",
       "    .dataframe tbody tr th:only-of-type {\n",
       "        vertical-align: middle;\n",
       "    }\n",
       "\n",
       "    .dataframe tbody tr th {\n",
       "        vertical-align: top;\n",
       "    }\n",
       "\n",
       "    .dataframe thead th {\n",
       "        text-align: right;\n",
       "    }\n",
       "</style>\n",
       "<table border=\"1\" class=\"dataframe\">\n",
       "  <thead>\n",
       "    <tr style=\"text-align: right;\">\n",
       "      <th></th>\n",
       "      <th>asin</th>\n",
       "      <th>helpful</th>\n",
       "      <th>overall</th>\n",
       "      <th>reviewText</th>\n",
       "      <th>reviewTime</th>\n",
       "      <th>reviewerID</th>\n",
       "      <th>reviewerName</th>\n",
       "      <th>summary</th>\n",
       "      <th>unixReviewTime</th>\n",
       "      <th>reviewLength</th>\n",
       "      <th>TotalVotes</th>\n",
       "      <th>helpfulVotes</th>\n",
       "      <th>totalVotes</th>\n",
       "      <th>helpfulPercentage</th>\n",
       "    </tr>\n",
       "  </thead>\n",
       "  <tbody>\n",
       "    <tr>\n",
       "      <th>1533</th>\n",
       "      <td>0002007770</td>\n",
       "      <td>[2, 1]</td>\n",
       "      <td>3.0</td>\n",
       "      <td>I was surprised to find that Water for Elephan...</td>\n",
       "      <td>03 5, 2009</td>\n",
       "      <td>A1FJC36TGXG20D</td>\n",
       "      <td>Jessica Bender \"aglowgal\"</td>\n",
       "      <td>Exciting, boring, then exciting again.</td>\n",
       "      <td>1236211200</td>\n",
       "      <td>202</td>\n",
       "      <td>1</td>\n",
       "      <td>2</td>\n",
       "      <td>1</td>\n",
       "      <td>2.0</td>\n",
       "    </tr>\n",
       "  </tbody>\n",
       "</table>\n",
       "</div>"
      ],
      "text/plain": [
       "            asin helpful  overall  \\\n",
       "1533  0002007770  [2, 1]      3.0   \n",
       "\n",
       "                                             reviewText  reviewTime  \\\n",
       "1533  I was surprised to find that Water for Elephan...  03 5, 2009   \n",
       "\n",
       "          reviewerID               reviewerName  \\\n",
       "1533  A1FJC36TGXG20D  Jessica Bender \"aglowgal\"   \n",
       "\n",
       "                                     summary  unixReviewTime  reviewLength  \\\n",
       "1533  Exciting, boring, then exciting again.      1236211200           202   \n",
       "\n",
       "      TotalVotes  helpfulVotes  totalVotes  helpfulPercentage  \n",
       "1533           1             2           1                2.0  "
      ]
     },
     "execution_count": 207,
     "metadata": {},
     "output_type": "execute_result"
    }
   ],
   "source": [
    "df_sub_reduced.loc[df_sub_reduced.helpfulPercentage==2.00]"
   ]
  },
  {
   "cell_type": "markdown",
   "metadata": {},
   "source": [
    "I think deleting that data point might be best here. It's unclear whether [2,1] should be [1,2] or [2,2]. I'll leave it in for now."
   ]
  },
  {
   "cell_type": "markdown",
   "metadata": {},
   "source": [
    "# Digging Deeper Into the Data"
   ]
  },
  {
   "cell_type": "markdown",
   "metadata": {},
   "source": [
    "## Playing Around With Percentiles"
   ]
  },
  {
   "cell_type": "code",
   "execution_count": 290,
   "metadata": {},
   "outputs": [
    {
     "name": "stdout",
     "output_type": "stream",
     "text": [
      "Percentiles of Helpful Votes:\n",
      "\n",
      "[ 1.  1.  4. 25. 53.]\n",
      "\n",
      "[.25, .50, .75, .97, .99]\n"
     ]
    }
   ],
   "source": [
    "percentiles = np.array([25, 50, 75, 97, 99])\n",
    "review_percentiles = np.percentile(df_sub_reduced.helpfulVotes, percentiles)\n",
    "print('Percentiles of Helpful Votes:\\n')\n",
    "print(review_percentiles)\n",
    "print('')\n",
    "print('[.25, .50, .75, .97, .99]')"
   ]
  },
  {
   "cell_type": "markdown",
   "metadata": {},
   "source": [
    "Wow. Half of the reviews receiving helpful votes only get 1!"
   ]
  },
  {
   "cell_type": "code",
   "execution_count": 293,
   "metadata": {},
   "outputs": [
    {
     "name": "stdout",
     "output_type": "stream",
     "text": [
      "Percentiles of Total Votes:\n",
      "\n",
      "[ 1.    3.    8.   35.   71.35]\n",
      "\n",
      "[.25, .50, .75, .97, .99]\n"
     ]
    }
   ],
   "source": [
    "percentiles = np.array([25, 50, 75, 97, 99])\n",
    "review_percentiles = np.percentile(df_sub_reduced.totalVotes, percentiles)\n",
    "print('Percentiles of Total Votes:\\n')\n",
    "print(review_percentiles)\n",
    "print('')\n",
    "print('[.25, .50, .75, .97, .99]')"
   ]
  },
  {
   "cell_type": "markdown",
   "metadata": {},
   "source": [
    "This is interesting. Comparing total with helpful suggests that more votes results in more helpful votes. Not sure I can put off correlations much longer. First, I want to quickly check the variation."
   ]
  },
  {
   "cell_type": "code",
   "execution_count": 294,
   "metadata": {},
   "outputs": [
    {
     "data": {
      "text/plain": [
       "1477.345995046304"
      ]
     },
     "execution_count": 294,
     "metadata": {},
     "output_type": "execute_result"
    }
   ],
   "source": [
    "np.var(df_sub_reduced.totalVotes)"
   ]
  },
  {
   "cell_type": "code",
   "execution_count": 295,
   "metadata": {},
   "outputs": [
    {
     "data": {
      "text/plain": [
       "38.43625885861297"
      ]
     },
     "execution_count": 295,
     "metadata": {},
     "output_type": "execute_result"
    }
   ],
   "source": [
    "np.std(df_sub_reduced.totalVotes)"
   ]
  },
  {
   "cell_type": "code",
   "execution_count": 279,
   "metadata": {},
   "outputs": [
    {
     "data": {
      "text/plain": [
       "count    7166.000000\n",
       "mean        8.662015\n",
       "std        38.438941\n",
       "min         1.000000\n",
       "25%         1.000000\n",
       "50%         3.000000\n",
       "75%         8.000000\n",
       "max      1581.000000\n",
       "Name: totalVotes, dtype: float64"
      ]
     },
     "execution_count": 279,
     "metadata": {},
     "output_type": "execute_result"
    }
   ],
   "source": [
    "df_sub_reduced.totalVotes.describe()"
   ]
  },
  {
   "cell_type": "markdown",
   "metadata": {},
   "source": [
    "## Correlation Coefficient"
   ]
  },
  {
   "cell_type": "markdown",
   "metadata": {},
   "source": [
    "### Define Function"
   ]
  },
  {
   "cell_type": "code",
   "execution_count": 175,
   "metadata": {},
   "outputs": [],
   "source": [
    "def pearson_r(x,y):\n",
    "    \"\"\"Compute Pearson correlation coefficient between two arrays.\"\"\"\n",
    "    # Compute correlation matrix: corr_mat\n",
    "    corr_mat = np.corrcoef(x,y)\n",
    "\n",
    "    # Return entry [0,1]\n",
    "    return corr_mat[0,1]"
   ]
  },
  {
   "cell_type": "code",
   "execution_count": null,
   "metadata": {},
   "outputs": [],
   "source": [
    "# Plot the ECDF\n",
    "_ = plt.plot(df_sub.overall, y_vers, '.')\n",
    "plt.margins(0.02)\n",
    "_ = plt.xlabel('book rankings')\n",
    "_ = plt.ylabel('ECDF')\n",
    "\n",
    "# Overlay percentiles as red diamonds.\n",
    "_ = plt.plot(ptiles_vers, review_percentiles/100, marker='D', color='red',\n",
    "         linestyle='none')\n",
    "\n",
    "# Show the plot\n",
    "plt.show()"
   ]
  },
  {
   "cell_type": "markdown",
   "metadata": {},
   "source": [
    "### Correlation Coefficient: Length of Review, and Percentage of Helpful Votes."
   ]
  },
  {
   "cell_type": "code",
   "execution_count": 178,
   "metadata": {},
   "outputs": [
    {
     "data": {
      "text/plain": [
       "0.1702067069948573"
      ]
     },
     "execution_count": 178,
     "metadata": {},
     "output_type": "execute_result"
    }
   ],
   "source": [
    "pearson_r(np_length_of_review_reduced, np_sub_helpfulVotes_reduced/np_sub_totalVotes_reduced)"
   ]
  },
  {
   "cell_type": "markdown",
   "metadata": {},
   "source": [
    "It's positive, but not strong, as the graphs indicated."
   ]
  },
  {
   "cell_type": "markdown",
   "metadata": {},
   "source": [
    "### Correlation Coefficient: Total Votes, and Helpful Votes."
   ]
  },
  {
   "cell_type": "code",
   "execution_count": 179,
   "metadata": {},
   "outputs": [
    {
     "data": {
      "text/plain": [
       "0.9872006480356191"
      ]
     },
     "execution_count": 179,
     "metadata": {},
     "output_type": "execute_result"
    }
   ],
   "source": [
    "pearson_r(np_sub_totalVotes_reduced, np_sub_helpfulVotes_reduced)"
   ]
  },
  {
   "cell_type": "markdown",
   "metadata": {},
   "source": [
    "It's amazing! I like double-checking anything with that strong of a correlation."
   ]
  },
  {
   "cell_type": "markdown",
   "metadata": {},
   "source": [
    "#### Confirm Total Votes and Helpful Votes Plot"
   ]
  },
  {
   "cell_type": "code",
   "execution_count": 182,
   "metadata": {},
   "outputs": [
    {
     "data": {
      "text/plain": [
       "[<matplotlib.lines.Line2D at 0x4d3d909e8>]"
      ]
     },
     "execution_count": 182,
     "metadata": {},
     "output_type": "execute_result"
    },
    {
     "data": {
      "image/png": "[encoded data removed]",
      "text/plain": [
       "<matplotlib.figure.Figure at 0x4cad29080>"
      ]
     },
     "metadata": {},
     "output_type": "display_data"
    }
   ],
   "source": [
    "plt.plot(df_sub.totalVotes, df_sub.helpfulVotes, marker = '.', linestyle='none')"
   ]
  },
  {
   "cell_type": "markdown",
   "metadata": {},
   "source": [
    "We have seen this one before."
   ]
  },
  {
   "cell_type": "markdown",
   "metadata": {},
   "source": [
    "### Correlation Coefficient: Helpful Percentage, and Star Ranking."
   ]
  },
  {
   "cell_type": "code",
   "execution_count": 200,
   "metadata": {},
   "outputs": [
    {
     "data": {
      "text/plain": [
       "0.04406577411491016"
      ]
     },
     "execution_count": 200,
     "metadata": {},
     "output_type": "execute_result"
    }
   ],
   "source": [
    "pearson_r(df_sub_reduced.helpfulPercentage, df_sub_reduced.overall)"
   ]
  },
  {
   "cell_type": "markdown",
   "metadata": {},
   "source": [
    "This correlation is low enough to be dismissed."
   ]
  },
  {
   "cell_type": "markdown",
   "metadata": {},
   "source": [
    "## Creating Sub-Data Frame with all Useful Columns"
   ]
  },
  {
   "cell_type": "code",
   "execution_count": 306,
   "metadata": {},
   "outputs": [],
   "source": [
    "df_sub_reduced = df_sub.loc[df_sub.totalVotes != 0]"
   ]
  },
  {
   "cell_type": "markdown",
   "metadata": {},
   "source": [
    "The 'reduced' Data Frame will only include row with votes cast."
   ]
  },
  {
   "cell_type": "code",
   "execution_count": 308,
   "metadata": {},
   "outputs": [
    {
     "data": {
      "text/html": [
       "<div>\n",
       "<style scoped>\n",
       "    .dataframe tbody tr th:only-of-type {\n",
       "        vertical-align: middle;\n",
       "    }\n",
       "\n",
       "    .dataframe tbody tr th {\n",
       "        vertical-align: top;\n",
       "    }\n",
       "\n",
       "    .dataframe thead th {\n",
       "        text-align: right;\n",
       "    }\n",
       "</style>\n",
       "<table border=\"1\" class=\"dataframe\">\n",
       "  <thead>\n",
       "    <tr style=\"text-align: right;\">\n",
       "      <th></th>\n",
       "      <th>asin</th>\n",
       "      <th>helpful</th>\n",
       "      <th>overall</th>\n",
       "      <th>reviewText</th>\n",
       "      <th>reviewTime</th>\n",
       "      <th>reviewerID</th>\n",
       "      <th>reviewerName</th>\n",
       "      <th>summary</th>\n",
       "      <th>unixReviewTime</th>\n",
       "      <th>reviewLength</th>\n",
       "      <th>helpfulVotes</th>\n",
       "      <th>totalVotes</th>\n",
       "    </tr>\n",
       "  </thead>\n",
       "  <tbody>\n",
       "    <tr>\n",
       "      <th>1</th>\n",
       "      <td>000100039X</td>\n",
       "      <td>[0, 2]</td>\n",
       "      <td>5.0</td>\n",
       "      <td>This is one my must have books. It is a master...</td>\n",
       "      <td>12 11, 2003</td>\n",
       "      <td>A2S166WSCFIFP5</td>\n",
       "      <td>adead_poet@hotmail.com \"adead_poet@hotmail.com\"</td>\n",
       "      <td>close to god</td>\n",
       "      <td>1071100800</td>\n",
       "      <td>49</td>\n",
       "      <td>0</td>\n",
       "      <td>2</td>\n",
       "    </tr>\n",
       "    <tr>\n",
       "      <th>4</th>\n",
       "      <td>000100039X</td>\n",
       "      <td>[7, 9]</td>\n",
       "      <td>5.0</td>\n",
       "      <td>A timeless classic.  It is a very demanding an...</td>\n",
       "      <td>10 7, 2002</td>\n",
       "      <td>A2XQ5LZHTD4AFT</td>\n",
       "      <td>Alaturka</td>\n",
       "      <td>A Modern Rumi</td>\n",
       "      <td>1033948800</td>\n",
       "      <td>150</td>\n",
       "      <td>7</td>\n",
       "      <td>9</td>\n",
       "    </tr>\n",
       "    <tr>\n",
       "      <th>14</th>\n",
       "      <td>000100039X</td>\n",
       "      <td>[1, 1]</td>\n",
       "      <td>5.0</td>\n",
       "      <td>I discovered The Prophet fifty years ago in co...</td>\n",
       "      <td>01 23, 2013</td>\n",
       "      <td>A19N3FCQCLJYUA</td>\n",
       "      <td>Amazon Customer</td>\n",
       "      <td>A book everyone &amp;#34;should&amp;#34; read</td>\n",
       "      <td>1358899200</td>\n",
       "      <td>162</td>\n",
       "      <td>1</td>\n",
       "      <td>1</td>\n",
       "    </tr>\n",
       "    <tr>\n",
       "      <th>15</th>\n",
       "      <td>000100039X</td>\n",
       "      <td>[1, 1]</td>\n",
       "      <td>5.0</td>\n",
       "      <td>Can't say enough about Kahlil Gibran's work am...</td>\n",
       "      <td>06 27, 2012</td>\n",
       "      <td>A3FFNE1DR5SI1W</td>\n",
       "      <td>A. Morelli</td>\n",
       "      <td>phenomenal piece of literature!</td>\n",
       "      <td>1340755200</td>\n",
       "      <td>71</td>\n",
       "      <td>1</td>\n",
       "      <td>1</td>\n",
       "    </tr>\n",
       "    <tr>\n",
       "      <th>17</th>\n",
       "      <td>000100039X</td>\n",
       "      <td>[3, 5]</td>\n",
       "      <td>5.0</td>\n",
       "      <td>Anything I've read by Gibran is, in my mind, f...</td>\n",
       "      <td>11 16, 2005</td>\n",
       "      <td>A2X4HE21JTAL98</td>\n",
       "      <td>Antiquarian</td>\n",
       "      <td>Flawless</td>\n",
       "      <td>1132099200</td>\n",
       "      <td>80</td>\n",
       "      <td>3</td>\n",
       "      <td>5</td>\n",
       "    </tr>\n",
       "  </tbody>\n",
       "</table>\n",
       "</div>"
      ],
      "text/plain": [
       "          asin helpful  overall  \\\n",
       "1   000100039X  [0, 2]      5.0   \n",
       "4   000100039X  [7, 9]      5.0   \n",
       "14  000100039X  [1, 1]      5.0   \n",
       "15  000100039X  [1, 1]      5.0   \n",
       "17  000100039X  [3, 5]      5.0   \n",
       "\n",
       "                                           reviewText   reviewTime  \\\n",
       "1   This is one my must have books. It is a master...  12 11, 2003   \n",
       "4   A timeless classic.  It is a very demanding an...   10 7, 2002   \n",
       "14  I discovered The Prophet fifty years ago in co...  01 23, 2013   \n",
       "15  Can't say enough about Kahlil Gibran's work am...  06 27, 2012   \n",
       "17  Anything I've read by Gibran is, in my mind, f...  11 16, 2005   \n",
       "\n",
       "        reviewerID                                     reviewerName  \\\n",
       "1   A2S166WSCFIFP5  adead_poet@hotmail.com \"adead_poet@hotmail.com\"   \n",
       "4   A2XQ5LZHTD4AFT                                         Alaturka   \n",
       "14  A19N3FCQCLJYUA                                  Amazon Customer   \n",
       "15  A3FFNE1DR5SI1W                                       A. Morelli   \n",
       "17  A2X4HE21JTAL98                                      Antiquarian   \n",
       "\n",
       "                                  summary  unixReviewTime  reviewLength  \\\n",
       "1                            close to god      1071100800            49   \n",
       "4                           A Modern Rumi      1033948800           150   \n",
       "14  A book everyone &#34;should&#34; read      1358899200           162   \n",
       "15        phenomenal piece of literature!      1340755200            71   \n",
       "17                               Flawless      1132099200            80   \n",
       "\n",
       "    helpfulVotes  totalVotes  \n",
       "1              0           2  \n",
       "4              7           9  \n",
       "14             1           1  \n",
       "15             1           1  \n",
       "17             3           5  "
      ]
     },
     "execution_count": 308,
     "metadata": {},
     "output_type": "execute_result"
    }
   ],
   "source": [
    "df_sub_reduced.head()"
   ]
  },
  {
   "cell_type": "markdown",
   "metadata": {},
   "source": [
    "The totalVotes column is never 0 as expected."
   ]
  },
  {
   "cell_type": "code",
   "execution_count": 197,
   "metadata": {},
   "outputs": [
    {
     "data": {
      "text/plain": [
       "(7166, 13)"
      ]
     },
     "execution_count": 197,
     "metadata": {},
     "output_type": "execute_result"
    }
   ],
   "source": [
    "df_sub_reduced.shape"
   ]
  },
  {
   "cell_type": "markdown",
   "metadata": {},
   "source": [
    "### Add a column for helpful percentage"
   ]
  },
  {
   "cell_type": "code",
   "execution_count": 198,
   "metadata": {},
   "outputs": [
    {
     "name": "stderr",
     "output_type": "stream",
     "text": [
      "/anaconda3/lib/python3.6/site-packages/ipykernel_launcher.py:1: SettingWithCopyWarning: \n",
      "A value is trying to be set on a copy of a slice from a DataFrame.\n",
      "Try using .loc[row_indexer,col_indexer] = value instead\n",
      "\n",
      "See the caveats in the documentation: http://pandas.pydata.org/pandas-docs/stable/indexing.html#indexing-view-versus-copy\n",
      "  \"\"\"Entry point for launching an IPython kernel.\n"
     ]
    }
   ],
   "source": [
    "df_sub_reduced['helpfulPercentage'] = df_sub_reduced.helpfulVotes/df_sub_reduced.totalVotes"
   ]
  },
  {
   "cell_type": "code",
   "execution_count": 199,
   "metadata": {},
   "outputs": [
    {
     "data": {
      "text/html": [
       "<div>\n",
       "<style scoped>\n",
       "    .dataframe tbody tr th:only-of-type {\n",
       "        vertical-align: middle;\n",
       "    }\n",
       "\n",
       "    .dataframe tbody tr th {\n",
       "        vertical-align: top;\n",
       "    }\n",
       "\n",
       "    .dataframe thead th {\n",
       "        text-align: right;\n",
       "    }\n",
       "</style>\n",
       "<table border=\"1\" class=\"dataframe\">\n",
       "  <thead>\n",
       "    <tr style=\"text-align: right;\">\n",
       "      <th></th>\n",
       "      <th>asin</th>\n",
       "      <th>helpful</th>\n",
       "      <th>overall</th>\n",
       "      <th>reviewText</th>\n",
       "      <th>reviewTime</th>\n",
       "      <th>reviewerID</th>\n",
       "      <th>reviewerName</th>\n",
       "      <th>summary</th>\n",
       "      <th>unixReviewTime</th>\n",
       "      <th>reviewLength</th>\n",
       "      <th>TotalVotes</th>\n",
       "      <th>helpfulVotes</th>\n",
       "      <th>totalVotes</th>\n",
       "      <th>helpfulPercentage</th>\n",
       "    </tr>\n",
       "  </thead>\n",
       "  <tbody>\n",
       "    <tr>\n",
       "      <th>1</th>\n",
       "      <td>000100039X</td>\n",
       "      <td>[0, 2]</td>\n",
       "      <td>5.0</td>\n",
       "      <td>This is one my must have books. It is a master...</td>\n",
       "      <td>12 11, 2003</td>\n",
       "      <td>A2S166WSCFIFP5</td>\n",
       "      <td>adead_poet@hotmail.com \"adead_poet@hotmail.com\"</td>\n",
       "      <td>close to god</td>\n",
       "      <td>1071100800</td>\n",
       "      <td>49</td>\n",
       "      <td>2</td>\n",
       "      <td>0</td>\n",
       "      <td>2</td>\n",
       "      <td>0.000000</td>\n",
       "    </tr>\n",
       "    <tr>\n",
       "      <th>4</th>\n",
       "      <td>000100039X</td>\n",
       "      <td>[7, 9]</td>\n",
       "      <td>5.0</td>\n",
       "      <td>A timeless classic.  It is a very demanding an...</td>\n",
       "      <td>10 7, 2002</td>\n",
       "      <td>A2XQ5LZHTD4AFT</td>\n",
       "      <td>Alaturka</td>\n",
       "      <td>A Modern Rumi</td>\n",
       "      <td>1033948800</td>\n",
       "      <td>150</td>\n",
       "      <td>9</td>\n",
       "      <td>7</td>\n",
       "      <td>9</td>\n",
       "      <td>0.777778</td>\n",
       "    </tr>\n",
       "    <tr>\n",
       "      <th>14</th>\n",
       "      <td>000100039X</td>\n",
       "      <td>[1, 1]</td>\n",
       "      <td>5.0</td>\n",
       "      <td>I discovered The Prophet fifty years ago in co...</td>\n",
       "      <td>01 23, 2013</td>\n",
       "      <td>A19N3FCQCLJYUA</td>\n",
       "      <td>Amazon Customer</td>\n",
       "      <td>A book everyone &amp;#34;should&amp;#34; read</td>\n",
       "      <td>1358899200</td>\n",
       "      <td>162</td>\n",
       "      <td>1</td>\n",
       "      <td>1</td>\n",
       "      <td>1</td>\n",
       "      <td>1.000000</td>\n",
       "    </tr>\n",
       "    <tr>\n",
       "      <th>15</th>\n",
       "      <td>000100039X</td>\n",
       "      <td>[1, 1]</td>\n",
       "      <td>5.0</td>\n",
       "      <td>Can't say enough about Kahlil Gibran's work am...</td>\n",
       "      <td>06 27, 2012</td>\n",
       "      <td>A3FFNE1DR5SI1W</td>\n",
       "      <td>A. Morelli</td>\n",
       "      <td>phenomenal piece of literature!</td>\n",
       "      <td>1340755200</td>\n",
       "      <td>71</td>\n",
       "      <td>1</td>\n",
       "      <td>1</td>\n",
       "      <td>1</td>\n",
       "      <td>1.000000</td>\n",
       "    </tr>\n",
       "    <tr>\n",
       "      <th>17</th>\n",
       "      <td>000100039X</td>\n",
       "      <td>[3, 5]</td>\n",
       "      <td>5.0</td>\n",
       "      <td>Anything I've read by Gibran is, in my mind, f...</td>\n",
       "      <td>11 16, 2005</td>\n",
       "      <td>A2X4HE21JTAL98</td>\n",
       "      <td>Antiquarian</td>\n",
       "      <td>Flawless</td>\n",
       "      <td>1132099200</td>\n",
       "      <td>80</td>\n",
       "      <td>5</td>\n",
       "      <td>3</td>\n",
       "      <td>5</td>\n",
       "      <td>0.600000</td>\n",
       "    </tr>\n",
       "    <tr>\n",
       "      <th>18</th>\n",
       "      <td>000100039X</td>\n",
       "      <td>[1, 1]</td>\n",
       "      <td>5.0</td>\n",
       "      <td>Cool book, I really like the quality of the pr...</td>\n",
       "      <td>02 15, 2012</td>\n",
       "      <td>ARDQ9KNB8K22N</td>\n",
       "      <td>Anwar</td>\n",
       "      <td>\"The Prophet\" is cool</td>\n",
       "      <td>1329264000</td>\n",
       "      <td>181</td>\n",
       "      <td>1</td>\n",
       "      <td>1</td>\n",
       "      <td>1</td>\n",
       "      <td>1.000000</td>\n",
       "    </tr>\n",
       "    <tr>\n",
       "      <th>19</th>\n",
       "      <td>000100039X</td>\n",
       "      <td>[3, 3]</td>\n",
       "      <td>5.0</td>\n",
       "      <td>This book is everything that is simple, delica...</td>\n",
       "      <td>10 13, 2003</td>\n",
       "      <td>A27ZH1AQORJ1L</td>\n",
       "      <td>anybody else or \"amanuet\"</td>\n",
       "      <td>Enchanting</td>\n",
       "      <td>1066003200</td>\n",
       "      <td>54</td>\n",
       "      <td>3</td>\n",
       "      <td>3</td>\n",
       "      <td>3</td>\n",
       "      <td>1.000000</td>\n",
       "    </tr>\n",
       "    <tr>\n",
       "      <th>21</th>\n",
       "      <td>000100039X</td>\n",
       "      <td>[2, 3]</td>\n",
       "      <td>5.0</td>\n",
       "      <td>I would have to say that this is the best book...</td>\n",
       "      <td>02 24, 2001</td>\n",
       "      <td>A26GKZPS079GFF</td>\n",
       "      <td>Areej</td>\n",
       "      <td>Touches my heart.. again and.. again...</td>\n",
       "      <td>982972800</td>\n",
       "      <td>41</td>\n",
       "      <td>3</td>\n",
       "      <td>2</td>\n",
       "      <td>3</td>\n",
       "      <td>0.666667</td>\n",
       "    </tr>\n",
       "    <tr>\n",
       "      <th>22</th>\n",
       "      <td>000100039X</td>\n",
       "      <td>[1, 4]</td>\n",
       "      <td>3.0</td>\n",
       "      <td>Its a thin book, very readable and has interes...</td>\n",
       "      <td>07 13, 2000</td>\n",
       "      <td>AENNW2G826191</td>\n",
       "      <td>Ashish A</td>\n",
       "      <td>Good Read</td>\n",
       "      <td>963446400</td>\n",
       "      <td>54</td>\n",
       "      <td>4</td>\n",
       "      <td>1</td>\n",
       "      <td>4</td>\n",
       "      <td>0.250000</td>\n",
       "    </tr>\n",
       "    <tr>\n",
       "      <th>23</th>\n",
       "      <td>000100039X</td>\n",
       "      <td>[2, 9]</td>\n",
       "      <td>2.0</td>\n",
       "      <td>I read this about a year ago and can't recall ...</td>\n",
       "      <td>03 21, 2008</td>\n",
       "      <td>A1KQ80Y692CDOI</td>\n",
       "      <td>Atown</td>\n",
       "      <td>Eloquent</td>\n",
       "      <td>1206057600</td>\n",
       "      <td>134</td>\n",
       "      <td>9</td>\n",
       "      <td>2</td>\n",
       "      <td>9</td>\n",
       "      <td>0.222222</td>\n",
       "    </tr>\n",
       "    <tr>\n",
       "      <th>25</th>\n",
       "      <td>000100039X</td>\n",
       "      <td>[5, 6]</td>\n",
       "      <td>5.0</td>\n",
       "      <td>I first read The Prophet by Kahlil Gibran over...</td>\n",
       "      <td>03 12, 2012</td>\n",
       "      <td>AF7CSSGV93RXN</td>\n",
       "      <td>A. William Benitez \"A. William Benitez\"</td>\n",
       "      <td>A Great Little Gift</td>\n",
       "      <td>1331510400</td>\n",
       "      <td>76</td>\n",
       "      <td>6</td>\n",
       "      <td>5</td>\n",
       "      <td>6</td>\n",
       "      <td>0.833333</td>\n",
       "    </tr>\n",
       "    <tr>\n",
       "      <th>26</th>\n",
       "      <td>000100039X</td>\n",
       "      <td>[1, 2]</td>\n",
       "      <td>5.0</td>\n",
       "      <td>It's a thin book which has deep thoughts about...</td>\n",
       "      <td>10 3, 2004</td>\n",
       "      <td>A3L6UC8985ORUY</td>\n",
       "      <td>Ayesha Riaz \"ashriaz\"</td>\n",
       "      <td>Loved it</td>\n",
       "      <td>1096761600</td>\n",
       "      <td>38</td>\n",
       "      <td>2</td>\n",
       "      <td>1</td>\n",
       "      <td>2</td>\n",
       "      <td>0.500000</td>\n",
       "    </tr>\n",
       "    <tr>\n",
       "      <th>31</th>\n",
       "      <td>000100039X</td>\n",
       "      <td>[1, 1]</td>\n",
       "      <td>5.0</td>\n",
       "      <td>I only wish I could read the original text.  T...</td>\n",
       "      <td>07 4, 2008</td>\n",
       "      <td>A3H65DAAV98C8F</td>\n",
       "      <td>Bill Feingold \"Bill Feingold\"</td>\n",
       "      <td>This book will change your life--really.</td>\n",
       "      <td>1215129600</td>\n",
       "      <td>33</td>\n",
       "      <td>1</td>\n",
       "      <td>1</td>\n",
       "      <td>1</td>\n",
       "      <td>1.000000</td>\n",
       "    </tr>\n",
       "    <tr>\n",
       "      <th>33</th>\n",
       "      <td>000100039X</td>\n",
       "      <td>[0, 2]</td>\n",
       "      <td>3.0</td>\n",
       "      <td>Maybe some of the folks in his homeland consid...</td>\n",
       "      <td>12 17, 2013</td>\n",
       "      <td>A2M7R6TNMH5YZN</td>\n",
       "      <td>BrentW</td>\n",
       "      <td>Not a prophet to me</td>\n",
       "      <td>1387238400</td>\n",
       "      <td>52</td>\n",
       "      <td>2</td>\n",
       "      <td>0</td>\n",
       "      <td>2</td>\n",
       "      <td>0.000000</td>\n",
       "    </tr>\n",
       "    <tr>\n",
       "      <th>34</th>\n",
       "      <td>000100039X</td>\n",
       "      <td>[81, 92]</td>\n",
       "      <td>5.0</td>\n",
       "      <td>This is one of the first (literary) books I re...</td>\n",
       "      <td>06 24, 2000</td>\n",
       "      <td>A1NPNGWBVD9AK3</td>\n",
       "      <td>Bruce Kendall \"BEK\"</td>\n",
       "      <td>Simple Wisdom</td>\n",
       "      <td>961804800</td>\n",
       "      <td>283</td>\n",
       "      <td>92</td>\n",
       "      <td>81</td>\n",
       "      <td>92</td>\n",
       "      <td>0.880435</td>\n",
       "    </tr>\n",
       "    <tr>\n",
       "      <th>36</th>\n",
       "      <td>000100039X</td>\n",
       "      <td>[2, 3]</td>\n",
       "      <td>5.0</td>\n",
       "      <td>This is one of the best, most inspiring philos...</td>\n",
       "      <td>12 4, 2004</td>\n",
       "      <td>A1L5IG1LKN6NED</td>\n",
       "      <td>Cassandra Kramer</td>\n",
       "      <td>One of my Favorite books of all time</td>\n",
       "      <td>1102118400</td>\n",
       "      <td>88</td>\n",
       "      <td>3</td>\n",
       "      <td>2</td>\n",
       "      <td>3</td>\n",
       "      <td>0.666667</td>\n",
       "    </tr>\n",
       "    <tr>\n",
       "      <th>37</th>\n",
       "      <td>000100039X</td>\n",
       "      <td>[1, 2]</td>\n",
       "      <td>5.0</td>\n",
       "      <td>This is Gibran's most celebrated work and it i...</td>\n",
       "      <td>05 3, 2000</td>\n",
       "      <td>A15ACUAJEJXCS3</td>\n",
       "      <td>Caz</td>\n",
       "      <td>Superb</td>\n",
       "      <td>957312000</td>\n",
       "      <td>97</td>\n",
       "      <td>2</td>\n",
       "      <td>1</td>\n",
       "      <td>2</td>\n",
       "      <td>0.500000</td>\n",
       "    </tr>\n",
       "    <tr>\n",
       "      <th>42</th>\n",
       "      <td>000100039X</td>\n",
       "      <td>[1, 1]</td>\n",
       "      <td>5.0</td>\n",
       "      <td>A decade past, I knew very little about the wr...</td>\n",
       "      <td>02 8, 2012</td>\n",
       "      <td>A1JP8MMNY1EACY</td>\n",
       "      <td>Christopher Covert \"Author of Hands On Fire\"</td>\n",
       "      <td>Remarkable!</td>\n",
       "      <td>1328659200</td>\n",
       "      <td>165</td>\n",
       "      <td>1</td>\n",
       "      <td>1</td>\n",
       "      <td>1</td>\n",
       "      <td>1.000000</td>\n",
       "    </tr>\n",
       "    <tr>\n",
       "      <th>43</th>\n",
       "      <td>000100039X</td>\n",
       "      <td>[8, 10]</td>\n",
       "      <td>5.0</td>\n",
       "      <td>The Prophet is Kahlil Gibran's best known work...</td>\n",
       "      <td>10 27, 2009</td>\n",
       "      <td>A3IS4WGMFR4X65</td>\n",
       "      <td>Colin Lewis \"WisdomNote\"</td>\n",
       "      <td>The most loving book ever written</td>\n",
       "      <td>1256601600</td>\n",
       "      <td>379</td>\n",
       "      <td>10</td>\n",
       "      <td>8</td>\n",
       "      <td>10</td>\n",
       "      <td>0.800000</td>\n",
       "    </tr>\n",
       "    <tr>\n",
       "      <th>46</th>\n",
       "      <td>000100039X</td>\n",
       "      <td>[8, 10]</td>\n",
       "      <td>5.0</td>\n",
       "      <td>Gibran Khalil Gibran was born in 1883 in what ...</td>\n",
       "      <td>01 10, 2006</td>\n",
       "      <td>AWLFVCT9128JV</td>\n",
       "      <td>Dave_42 \"Dave_42\"</td>\n",
       "      <td>The Lessons Of Life</td>\n",
       "      <td>1136851200</td>\n",
       "      <td>135</td>\n",
       "      <td>10</td>\n",
       "      <td>8</td>\n",
       "      <td>10</td>\n",
       "      <td>0.800000</td>\n",
       "    </tr>\n",
       "    <tr>\n",
       "      <th>48</th>\n",
       "      <td>000100039X</td>\n",
       "      <td>[2, 2]</td>\n",
       "      <td>5.0</td>\n",
       "      <td>I didn't really know what to expect when I pur...</td>\n",
       "      <td>12 24, 2009</td>\n",
       "      <td>A33CNFK776MTWR</td>\n",
       "      <td>David M. Reed</td>\n",
       "      <td>Delightful to read and hold</td>\n",
       "      <td>1261612800</td>\n",
       "      <td>250</td>\n",
       "      <td>2</td>\n",
       "      <td>2</td>\n",
       "      <td>2</td>\n",
       "      <td>1.000000</td>\n",
       "    </tr>\n",
       "    <tr>\n",
       "      <th>49</th>\n",
       "      <td>000100039X</td>\n",
       "      <td>[0, 1]</td>\n",
       "      <td>5.0</td>\n",
       "      <td>As the author of a spiritually-themed book ent...</td>\n",
       "      <td>05 15, 2009</td>\n",
       "      <td>A1MCAHDE1F3Q6L</td>\n",
       "      <td>Davis Aujourd'hui</td>\n",
       "      <td>Eternal Truths</td>\n",
       "      <td>1242345600</td>\n",
       "      <td>225</td>\n",
       "      <td>1</td>\n",
       "      <td>0</td>\n",
       "      <td>1</td>\n",
       "      <td>0.000000</td>\n",
       "    </tr>\n",
       "    <tr>\n",
       "      <th>50</th>\n",
       "      <td>000100039X</td>\n",
       "      <td>[3, 3]</td>\n",
       "      <td>5.0</td>\n",
       "      <td>Eloquent and full of divine wisdom, this littl...</td>\n",
       "      <td>07 10, 2002</td>\n",
       "      <td>APW96HJ7GYRJH</td>\n",
       "      <td>Del Ray Zimmerman</td>\n",
       "      <td>Simply profound...</td>\n",
       "      <td>1026259200</td>\n",
       "      <td>40</td>\n",
       "      <td>3</td>\n",
       "      <td>3</td>\n",
       "      <td>3</td>\n",
       "      <td>1.000000</td>\n",
       "    </tr>\n",
       "    <tr>\n",
       "      <th>53</th>\n",
       "      <td>000100039X</td>\n",
       "      <td>[4, 4]</td>\n",
       "      <td>5.0</td>\n",
       "      <td>\" When you are joyous, look deep into your hea...</td>\n",
       "      <td>11 29, 2009</td>\n",
       "      <td>AMRZ5G7HF7I03</td>\n",
       "      <td>Didaskalex \"Eusebius Alexandrinus\"</td>\n",
       "      <td>Gibran's Prophet-worthy Poetic Wisdom</td>\n",
       "      <td>1259452800</td>\n",
       "      <td>489</td>\n",
       "      <td>4</td>\n",
       "      <td>4</td>\n",
       "      <td>4</td>\n",
       "      <td>1.000000</td>\n",
       "    </tr>\n",
       "    <tr>\n",
       "      <th>54</th>\n",
       "      <td>000100039X</td>\n",
       "      <td>[3, 5]</td>\n",
       "      <td>5.0</td>\n",
       "      <td>Okay I know that Gibhran is supposed to be cor...</td>\n",
       "      <td>05 21, 2002</td>\n",
       "      <td>A34HCSZJXZLPC</td>\n",
       "      <td>dinadan26 \"dinadan26\"</td>\n",
       "      <td>One of the guide books to life</td>\n",
       "      <td>1021939200</td>\n",
       "      <td>136</td>\n",
       "      <td>5</td>\n",
       "      <td>3</td>\n",
       "      <td>5</td>\n",
       "      <td>0.600000</td>\n",
       "    </tr>\n",
       "    <tr>\n",
       "      <th>56</th>\n",
       "      <td>000100039X</td>\n",
       "      <td>[2, 4]</td>\n",
       "      <td>5.0</td>\n",
       "      <td>The prophet by Kahlil Gibran is a very beautif...</td>\n",
       "      <td>08 2, 2007</td>\n",
       "      <td>AI9CMLQWH9KRP</td>\n",
       "      <td>D. Muller</td>\n",
       "      <td>The Prophet</td>\n",
       "      <td>1186012800</td>\n",
       "      <td>103</td>\n",
       "      <td>4</td>\n",
       "      <td>2</td>\n",
       "      <td>4</td>\n",
       "      <td>0.500000</td>\n",
       "    </tr>\n",
       "    <tr>\n",
       "      <th>57</th>\n",
       "      <td>000100039X</td>\n",
       "      <td>[1, 1]</td>\n",
       "      <td>5.0</td>\n",
       "      <td>_The Prophet_ is a short read (my copy checks ...</td>\n",
       "      <td>08 12, 2012</td>\n",
       "      <td>A2NHD7LUXVGTD3</td>\n",
       "      <td>doc peterson</td>\n",
       "      <td>a beautiful poetic commentary on what it is to...</td>\n",
       "      <td>1344729600</td>\n",
       "      <td>310</td>\n",
       "      <td>1</td>\n",
       "      <td>1</td>\n",
       "      <td>1</td>\n",
       "      <td>1.000000</td>\n",
       "    </tr>\n",
       "    <tr>\n",
       "      <th>58</th>\n",
       "      <td>000100039X</td>\n",
       "      <td>[3, 4]</td>\n",
       "      <td>5.0</td>\n",
       "      <td>The Prophet is about a mysterious religious th...</td>\n",
       "      <td>01 25, 2001</td>\n",
       "      <td>A1K1JW1C5CUSUZ</td>\n",
       "      <td>Donald Mitchell \"Jesus Loves You!\"</td>\n",
       "      <td>Transcend Human Subjectivity to Find Godlike O...</td>\n",
       "      <td>980380800</td>\n",
       "      <td>580</td>\n",
       "      <td>4</td>\n",
       "      <td>3</td>\n",
       "      <td>4</td>\n",
       "      <td>0.750000</td>\n",
       "    </tr>\n",
       "    <tr>\n",
       "      <th>59</th>\n",
       "      <td>000100039X</td>\n",
       "      <td>[1, 1]</td>\n",
       "      <td>5.0</td>\n",
       "      <td>Khalil Gibran's book, The Prophet, has the pow...</td>\n",
       "      <td>02 10, 2011</td>\n",
       "      <td>ADS5APY1NKTL4</td>\n",
       "      <td>D. Pawl \"Dani\"</td>\n",
       "      <td>inspiring and beautiful...</td>\n",
       "      <td>1297296000</td>\n",
       "      <td>101</td>\n",
       "      <td>1</td>\n",
       "      <td>1</td>\n",
       "      <td>1</td>\n",
       "      <td>1.000000</td>\n",
       "    </tr>\n",
       "    <tr>\n",
       "      <th>61</th>\n",
       "      <td>000100039X</td>\n",
       "      <td>[4, 4]</td>\n",
       "      <td>5.0</td>\n",
       "      <td>I plan to buy 3 more copies from Amazon, for m...</td>\n",
       "      <td>02 27, 2011</td>\n",
       "      <td>A3A0ZK5GTHSCUV</td>\n",
       "      <td>D. Woncisz \"LADIDAH\"</td>\n",
       "      <td>QUICK AND POWERFUL \"FIRST-AID\" FOR THE BROKEN ...</td>\n",
       "      <td>1298764800</td>\n",
       "      <td>371</td>\n",
       "      <td>4</td>\n",
       "      <td>4</td>\n",
       "      <td>4</td>\n",
       "      <td>1.000000</td>\n",
       "    </tr>\n",
       "    <tr>\n",
       "      <th>...</th>\n",
       "      <td>...</td>\n",
       "      <td>...</td>\n",
       "      <td>...</td>\n",
       "      <td>...</td>\n",
       "      <td>...</td>\n",
       "      <td>...</td>\n",
       "      <td>...</td>\n",
       "      <td>...</td>\n",
       "      <td>...</td>\n",
       "      <td>...</td>\n",
       "      <td>...</td>\n",
       "      <td>...</td>\n",
       "      <td>...</td>\n",
       "      <td>...</td>\n",
       "    </tr>\n",
       "    <tr>\n",
       "      <th>9955</th>\n",
       "      <td>0006514006</td>\n",
       "      <td>[3, 5]</td>\n",
       "      <td>5.0</td>\n",
       "      <td>If you missed the beautiful film, \"Anne of the...</td>\n",
       "      <td>09 28, 2002</td>\n",
       "      <td>A1TWTULVD6F22O</td>\n",
       "      <td>L. Quido \"quidrock\"</td>\n",
       "      <td>This book fills in the blanks with well-writte...</td>\n",
       "      <td>1033171200</td>\n",
       "      <td>461</td>\n",
       "      <td>5</td>\n",
       "      <td>3</td>\n",
       "      <td>5</td>\n",
       "      <td>0.600000</td>\n",
       "    </tr>\n",
       "    <tr>\n",
       "      <th>9956</th>\n",
       "      <td>0006514006</td>\n",
       "      <td>[0, 1]</td>\n",
       "      <td>5.0</td>\n",
       "      <td>Very good story telling. The characters were v...</td>\n",
       "      <td>11 25, 2002</td>\n",
       "      <td>AB5WHQ93ETMH7</td>\n",
       "      <td>LSB</td>\n",
       "      <td>Great Read</td>\n",
       "      <td>1038182400</td>\n",
       "      <td>60</td>\n",
       "      <td>1</td>\n",
       "      <td>0</td>\n",
       "      <td>1</td>\n",
       "      <td>0.000000</td>\n",
       "    </tr>\n",
       "    <tr>\n",
       "      <th>9958</th>\n",
       "      <td>0006514006</td>\n",
       "      <td>[8, 11]</td>\n",
       "      <td>5.0</td>\n",
       "      <td>Much has been written about this turbulent tim...</td>\n",
       "      <td>09 22, 2002</td>\n",
       "      <td>A2MF2QVSCUI27G</td>\n",
       "      <td>Luan Gaines \"luansos\"</td>\n",
       "      <td>A Machiavellian Masterpiece</td>\n",
       "      <td>1032652800</td>\n",
       "      <td>425</td>\n",
       "      <td>11</td>\n",
       "      <td>8</td>\n",
       "      <td>11</td>\n",
       "      <td>0.727273</td>\n",
       "    </tr>\n",
       "    <tr>\n",
       "      <th>9959</th>\n",
       "      <td>0006514006</td>\n",
       "      <td>[1, 2]</td>\n",
       "      <td>5.0</td>\n",
       "      <td>It's so Magical, the way P.Gregory tells this ...</td>\n",
       "      <td>02 9, 2007</td>\n",
       "      <td>A2IAWMDW6G60AN</td>\n",
       "      <td>Lubna Sayed \"Lubi Lafdewali\"</td>\n",
       "      <td>Par Excellence!</td>\n",
       "      <td>1170979200</td>\n",
       "      <td>42</td>\n",
       "      <td>2</td>\n",
       "      <td>1</td>\n",
       "      <td>2</td>\n",
       "      <td>0.500000</td>\n",
       "    </tr>\n",
       "    <tr>\n",
       "      <th>9960</th>\n",
       "      <td>0006514006</td>\n",
       "      <td>[1, 1]</td>\n",
       "      <td>5.0</td>\n",
       "      <td>Compulsively readable and unputdownable, Phili...</td>\n",
       "      <td>03 3, 2013</td>\n",
       "      <td>A2LIR7WQ20GXQ7</td>\n",
       "      <td>Lucinda</td>\n",
       "      <td>This compelling, mesmerizing account brings th...</td>\n",
       "      <td>1362268800</td>\n",
       "      <td>414</td>\n",
       "      <td>1</td>\n",
       "      <td>1</td>\n",
       "      <td>1</td>\n",
       "      <td>1.000000</td>\n",
       "    </tr>\n",
       "    <tr>\n",
       "      <th>9962</th>\n",
       "      <td>0006514006</td>\n",
       "      <td>[2, 3]</td>\n",
       "      <td>5.0</td>\n",
       "      <td>I LOVED this book! I don't really like reading...</td>\n",
       "      <td>04 17, 2003</td>\n",
       "      <td>A3T87OHG0NKMBS</td>\n",
       "      <td>L. Vince</td>\n",
       "      <td>Get lost in the past......</td>\n",
       "      <td>1050537600</td>\n",
       "      <td>144</td>\n",
       "      <td>3</td>\n",
       "      <td>2</td>\n",
       "      <td>3</td>\n",
       "      <td>0.666667</td>\n",
       "    </tr>\n",
       "    <tr>\n",
       "      <th>9964</th>\n",
       "      <td>0006514006</td>\n",
       "      <td>[3, 4]</td>\n",
       "      <td>5.0</td>\n",
       "      <td>&amp;quot;The Other Boleyn Girl&amp;quot; is a truly f...</td>\n",
       "      <td>08 30, 2002</td>\n",
       "      <td>A32VWSQ0FPZKZ3</td>\n",
       "      <td>MAB</td>\n",
       "      <td>Do not let the amount of pages discourage you!</td>\n",
       "      <td>1030665600</td>\n",
       "      <td>196</td>\n",
       "      <td>4</td>\n",
       "      <td>3</td>\n",
       "      <td>4</td>\n",
       "      <td>0.750000</td>\n",
       "    </tr>\n",
       "    <tr>\n",
       "      <th>9965</th>\n",
       "      <td>0006514006</td>\n",
       "      <td>[2, 3]</td>\n",
       "      <td>5.0</td>\n",
       "      <td>Took this book on vacation and couldn't put it...</td>\n",
       "      <td>08 11, 2005</td>\n",
       "      <td>AFR1LGVHMPP4T</td>\n",
       "      <td>Maggie \"danville mom\"</td>\n",
       "      <td>Awesome read</td>\n",
       "      <td>1123718400</td>\n",
       "      <td>12</td>\n",
       "      <td>3</td>\n",
       "      <td>2</td>\n",
       "      <td>3</td>\n",
       "      <td>0.666667</td>\n",
       "    </tr>\n",
       "    <tr>\n",
       "      <th>9966</th>\n",
       "      <td>0006514006</td>\n",
       "      <td>[1, 2]</td>\n",
       "      <td>3.0</td>\n",
       "      <td>The Other Boleyn Girl was not as well written ...</td>\n",
       "      <td>04 1, 2008</td>\n",
       "      <td>A2WFYLXYYK32WP</td>\n",
       "      <td>Mahlon Christensen</td>\n",
       "      <td>Sweet Valley High meets The Tudors.</td>\n",
       "      <td>1207008000</td>\n",
       "      <td>178</td>\n",
       "      <td>2</td>\n",
       "      <td>1</td>\n",
       "      <td>2</td>\n",
       "      <td>0.500000</td>\n",
       "    </tr>\n",
       "    <tr>\n",
       "      <th>9967</th>\n",
       "      <td>0006514006</td>\n",
       "      <td>[1, 4]</td>\n",
       "      <td>5.0</td>\n",
       "      <td>\"The Other Boleyn Girl\" represents the BEST in...</td>\n",
       "      <td>04 11, 2005</td>\n",
       "      <td>A3GMVGM7L1PM9H</td>\n",
       "      <td>M. Alther</td>\n",
       "      <td>WOW!  A REAL PAGE TURNER YOU WON'T WANT TO PUT...</td>\n",
       "      <td>1113177600</td>\n",
       "      <td>60</td>\n",
       "      <td>4</td>\n",
       "      <td>1</td>\n",
       "      <td>4</td>\n",
       "      <td>0.250000</td>\n",
       "    </tr>\n",
       "    <tr>\n",
       "      <th>9968</th>\n",
       "      <td>0006514006</td>\n",
       "      <td>[2, 4]</td>\n",
       "      <td>5.0</td>\n",
       "      <td>I loved this book. It was a little long but th...</td>\n",
       "      <td>06 30, 2008</td>\n",
       "      <td>A2M52HXVU7XY17</td>\n",
       "      <td>M.A.  (Mom of 2 boys)</td>\n",
       "      <td>LOVED IT!</td>\n",
       "      <td>1214784000</td>\n",
       "      <td>24</td>\n",
       "      <td>4</td>\n",
       "      <td>2</td>\n",
       "      <td>4</td>\n",
       "      <td>0.500000</td>\n",
       "    </tr>\n",
       "    <tr>\n",
       "      <th>9972</th>\n",
       "      <td>0006514006</td>\n",
       "      <td>[2, 2]</td>\n",
       "      <td>3.0</td>\n",
       "      <td>I decided to read this book because it was rec...</td>\n",
       "      <td>07 1, 2005</td>\n",
       "      <td>ANJ1POQ7LKFME</td>\n",
       "      <td>Marge</td>\n",
       "      <td>Mirror, Mirror on the wall...</td>\n",
       "      <td>1120176000</td>\n",
       "      <td>149</td>\n",
       "      <td>2</td>\n",
       "      <td>2</td>\n",
       "      <td>2</td>\n",
       "      <td>1.000000</td>\n",
       "    </tr>\n",
       "    <tr>\n",
       "      <th>9973</th>\n",
       "      <td>0006514006</td>\n",
       "      <td>[6, 6]</td>\n",
       "      <td>5.0</td>\n",
       "      <td>What a story, what a writer, what a well writt...</td>\n",
       "      <td>08 3, 2004</td>\n",
       "      <td>A1QVQ7UJY4VASG</td>\n",
       "      <td>Margie Read \"magnoliamansions\"</td>\n",
       "      <td>What a story!</td>\n",
       "      <td>1091491200</td>\n",
       "      <td>114</td>\n",
       "      <td>6</td>\n",
       "      <td>6</td>\n",
       "      <td>6</td>\n",
       "      <td>1.000000</td>\n",
       "    </tr>\n",
       "    <tr>\n",
       "      <th>9974</th>\n",
       "      <td>0006514006</td>\n",
       "      <td>[2, 2]</td>\n",
       "      <td>5.0</td>\n",
       "      <td>The novel is about the Boleyn family, an ambit...</td>\n",
       "      <td>06 23, 2006</td>\n",
       "      <td>A2NS4ZOVB28DK4</td>\n",
       "      <td>Maria Atas</td>\n",
       "      <td>Love, ambition, scandal, politics, intrigue......</td>\n",
       "      <td>1151020800</td>\n",
       "      <td>320</td>\n",
       "      <td>2</td>\n",
       "      <td>2</td>\n",
       "      <td>2</td>\n",
       "      <td>1.000000</td>\n",
       "    </tr>\n",
       "    <tr>\n",
       "      <th>9976</th>\n",
       "      <td>0006514006</td>\n",
       "      <td>[1, 1]</td>\n",
       "      <td>5.0</td>\n",
       "      <td>This book was absolutely fantastic. It was an ...</td>\n",
       "      <td>06 9, 2006</td>\n",
       "      <td>A438K3PHPZ9H6</td>\n",
       "      <td>Marie Beck \"herstory\"</td>\n",
       "      <td>Fantastic!!</td>\n",
       "      <td>1149811200</td>\n",
       "      <td>109</td>\n",
       "      <td>1</td>\n",
       "      <td>1</td>\n",
       "      <td>1</td>\n",
       "      <td>1.000000</td>\n",
       "    </tr>\n",
       "    <tr>\n",
       "      <th>9977</th>\n",
       "      <td>0006514006</td>\n",
       "      <td>[0, 1]</td>\n",
       "      <td>4.0</td>\n",
       "      <td>1. The Other Boleyn Girl - Phillippa GregoryI ...</td>\n",
       "      <td>04 2, 2009</td>\n",
       "      <td>A3OSQL8M2W0ZJF</td>\n",
       "      <td>Marie \"www.bookishlyreviews.com\"</td>\n",
       "      <td>We love the Tudors!</td>\n",
       "      <td>1238630400</td>\n",
       "      <td>153</td>\n",
       "      <td>1</td>\n",
       "      <td>0</td>\n",
       "      <td>1</td>\n",
       "      <td>0.000000</td>\n",
       "    </tr>\n",
       "    <tr>\n",
       "      <th>9978</th>\n",
       "      <td>0006514006</td>\n",
       "      <td>[8, 8]</td>\n",
       "      <td>1.0</td>\n",
       "      <td>I was so looking forward to this novel - a som...</td>\n",
       "      <td>05 24, 2008</td>\n",
       "      <td>A21A2JGWH92TXZ</td>\n",
       "      <td>Mark \"MTF\"</td>\n",
       "      <td>a disappointing bore</td>\n",
       "      <td>1211587200</td>\n",
       "      <td>84</td>\n",
       "      <td>8</td>\n",
       "      <td>8</td>\n",
       "      <td>8</td>\n",
       "      <td>1.000000</td>\n",
       "    </tr>\n",
       "    <tr>\n",
       "      <th>9979</th>\n",
       "      <td>0006514006</td>\n",
       "      <td>[1, 3]</td>\n",
       "      <td>4.0</td>\n",
       "      <td>Everybody has already said everything, so I'll...</td>\n",
       "      <td>05 30, 2008</td>\n",
       "      <td>A26DMTLIKAT8DN</td>\n",
       "      <td>Marva Dasef \"YA Fantasy Author\"</td>\n",
       "      <td>Liked it - Hated it</td>\n",
       "      <td>1212105600</td>\n",
       "      <td>126</td>\n",
       "      <td>3</td>\n",
       "      <td>1</td>\n",
       "      <td>3</td>\n",
       "      <td>0.333333</td>\n",
       "    </tr>\n",
       "    <tr>\n",
       "      <th>9980</th>\n",
       "      <td>0006514006</td>\n",
       "      <td>[0, 1]</td>\n",
       "      <td>5.0</td>\n",
       "      <td>I couldn't hardly put this book down as was th...</td>\n",
       "      <td>06 26, 2007</td>\n",
       "      <td>A3IAI52HLKGSMY</td>\n",
       "      <td>Mary A. Hebert</td>\n",
       "      <td>The Other Boleyn Girl</td>\n",
       "      <td>1182816000</td>\n",
       "      <td>48</td>\n",
       "      <td>1</td>\n",
       "      <td>0</td>\n",
       "      <td>1</td>\n",
       "      <td>0.000000</td>\n",
       "    </tr>\n",
       "    <tr>\n",
       "      <th>9981</th>\n",
       "      <td>0006514006</td>\n",
       "      <td>[1, 1]</td>\n",
       "      <td>5.0</td>\n",
       "      <td>I loved this book! I think I read it in a week...</td>\n",
       "      <td>12 14, 2009</td>\n",
       "      <td>AN1YAE4CUAL74</td>\n",
       "      <td>Mary E. Knox</td>\n",
       "      <td>Loved it!</td>\n",
       "      <td>1260748800</td>\n",
       "      <td>96</td>\n",
       "      <td>1</td>\n",
       "      <td>1</td>\n",
       "      <td>1</td>\n",
       "      <td>1.000000</td>\n",
       "    </tr>\n",
       "    <tr>\n",
       "      <th>9983</th>\n",
       "      <td>0006514006</td>\n",
       "      <td>[0, 1]</td>\n",
       "      <td>5.0</td>\n",
       "      <td>I really can't express how much I loved this b...</td>\n",
       "      <td>01 18, 2011</td>\n",
       "      <td>AWOUU2ALYHGGS</td>\n",
       "      <td>Mary E. Williams \"babywatson\"</td>\n",
       "      <td>A great read!</td>\n",
       "      <td>1295308800</td>\n",
       "      <td>51</td>\n",
       "      <td>1</td>\n",
       "      <td>0</td>\n",
       "      <td>1</td>\n",
       "      <td>0.000000</td>\n",
       "    </tr>\n",
       "    <tr>\n",
       "      <th>9986</th>\n",
       "      <td>0006514006</td>\n",
       "      <td>[15, 19]</td>\n",
       "      <td>1.0</td>\n",
       "      <td>I am appalled by how many people thought this ...</td>\n",
       "      <td>02 25, 2008</td>\n",
       "      <td>A17CXMO6VRMXI0</td>\n",
       "      <td>MaryLouise Hawken \"MaryLouise Hawken\"</td>\n",
       "      <td>?Historical? Hardly!</td>\n",
       "      <td>1203897600</td>\n",
       "      <td>205</td>\n",
       "      <td>19</td>\n",
       "      <td>15</td>\n",
       "      <td>19</td>\n",
       "      <td>0.789474</td>\n",
       "    </tr>\n",
       "    <tr>\n",
       "      <th>9987</th>\n",
       "      <td>0006514006</td>\n",
       "      <td>[20, 27]</td>\n",
       "      <td>1.0</td>\n",
       "      <td>Many many reviews have been posted, and I will...</td>\n",
       "      <td>01 19, 2007</td>\n",
       "      <td>A1M1Y3R6X9HY6W</td>\n",
       "      <td>Mary R</td>\n",
       "      <td>Appalling</td>\n",
       "      <td>1169164800</td>\n",
       "      <td>293</td>\n",
       "      <td>27</td>\n",
       "      <td>20</td>\n",
       "      <td>27</td>\n",
       "      <td>0.740741</td>\n",
       "    </tr>\n",
       "    <tr>\n",
       "      <th>9990</th>\n",
       "      <td>0006514006</td>\n",
       "      <td>[3, 6]</td>\n",
       "      <td>4.0</td>\n",
       "      <td>With just a little too much romance to be hist...</td>\n",
       "      <td>06 5, 2004</td>\n",
       "      <td>A17TPT3FWAE5T1</td>\n",
       "      <td>Matthew Spady \"800rsd\"</td>\n",
       "      <td>Intrigue in the Tudor Courts</td>\n",
       "      <td>1086393600</td>\n",
       "      <td>534</td>\n",
       "      <td>6</td>\n",
       "      <td>3</td>\n",
       "      <td>6</td>\n",
       "      <td>0.500000</td>\n",
       "    </tr>\n",
       "    <tr>\n",
       "      <th>9992</th>\n",
       "      <td>0006514006</td>\n",
       "      <td>[13, 15]</td>\n",
       "      <td>2.0</td>\n",
       "      <td>It is possibly unfair of me to review this boo...</td>\n",
       "      <td>07 9, 2007</td>\n",
       "      <td>A2I9MZZUJIXM96</td>\n",
       "      <td>Maxie</td>\n",
       "      <td>good story, atrocious writing</td>\n",
       "      <td>1183939200</td>\n",
       "      <td>213</td>\n",
       "      <td>15</td>\n",
       "      <td>13</td>\n",
       "      <td>15</td>\n",
       "      <td>0.866667</td>\n",
       "    </tr>\n",
       "    <tr>\n",
       "      <th>9993</th>\n",
       "      <td>0006514006</td>\n",
       "      <td>[1, 1]</td>\n",
       "      <td>5.0</td>\n",
       "      <td>This is the first book I read from Gregory. I ...</td>\n",
       "      <td>07 21, 2012</td>\n",
       "      <td>A9K3PZUTG3IXA</td>\n",
       "      <td>Maye</td>\n",
       "      <td>Loved it despite the inaccuracies</td>\n",
       "      <td>1342828800</td>\n",
       "      <td>112</td>\n",
       "      <td>1</td>\n",
       "      <td>1</td>\n",
       "      <td>1</td>\n",
       "      <td>1.000000</td>\n",
       "    </tr>\n",
       "    <tr>\n",
       "      <th>9995</th>\n",
       "      <td>0006514006</td>\n",
       "      <td>[0, 1]</td>\n",
       "      <td>5.0</td>\n",
       "      <td>this was a great book.  I did not like the Con...</td>\n",
       "      <td>10 6, 2007</td>\n",
       "      <td>A36MDVJ59IZNXH</td>\n",
       "      <td>MC \"MC\"</td>\n",
       "      <td>couldn't put it down</td>\n",
       "      <td>1191628800</td>\n",
       "      <td>28</td>\n",
       "      <td>1</td>\n",
       "      <td>0</td>\n",
       "      <td>1</td>\n",
       "      <td>0.000000</td>\n",
       "    </tr>\n",
       "    <tr>\n",
       "      <th>9997</th>\n",
       "      <td>0006514006</td>\n",
       "      <td>[1, 1]</td>\n",
       "      <td>4.0</td>\n",
       "      <td>The Other Boleyn girl was a highly engrossing ...</td>\n",
       "      <td>08 17, 2011</td>\n",
       "      <td>A3HBE3VAKQ7RYF</td>\n",
       "      <td>Megan @ Book Brats \"Book Brats Reviews\"</td>\n",
       "      <td>Beautiful book about an amazing time period</td>\n",
       "      <td>1313539200</td>\n",
       "      <td>227</td>\n",
       "      <td>1</td>\n",
       "      <td>1</td>\n",
       "      <td>1</td>\n",
       "      <td>1.000000</td>\n",
       "    </tr>\n",
       "    <tr>\n",
       "      <th>9998</th>\n",
       "      <td>0006514006</td>\n",
       "      <td>[2, 4]</td>\n",
       "      <td>4.0</td>\n",
       "      <td>Last week I finished reading The Other Boleyn ...</td>\n",
       "      <td>09 13, 2008</td>\n",
       "      <td>A2I5HGFRL5GVQJ</td>\n",
       "      <td>Megan Kruljac</td>\n",
       "      <td>An enjoyable read</td>\n",
       "      <td>1221264000</td>\n",
       "      <td>139</td>\n",
       "      <td>4</td>\n",
       "      <td>2</td>\n",
       "      <td>4</td>\n",
       "      <td>0.500000</td>\n",
       "    </tr>\n",
       "    <tr>\n",
       "      <th>9999</th>\n",
       "      <td>0006514006</td>\n",
       "      <td>[1, 1]</td>\n",
       "      <td>1.0</td>\n",
       "      <td>I confess that I used to be a consistent reade...</td>\n",
       "      <td>05 4, 2014</td>\n",
       "      <td>A83MKA85YHNIX</td>\n",
       "      <td>Meghan H</td>\n",
       "      <td>Why did I used to enjoy these books again?</td>\n",
       "      <td>1399161600</td>\n",
       "      <td>920</td>\n",
       "      <td>1</td>\n",
       "      <td>1</td>\n",
       "      <td>1</td>\n",
       "      <td>1.000000</td>\n",
       "    </tr>\n",
       "  </tbody>\n",
       "</table>\n",
       "<p>7166 rows × 14 columns</p>\n",
       "</div>"
      ],
      "text/plain": [
       "            asin   helpful  overall  \\\n",
       "1     000100039X    [0, 2]      5.0   \n",
       "4     000100039X    [7, 9]      5.0   \n",
       "14    000100039X    [1, 1]      5.0   \n",
       "15    000100039X    [1, 1]      5.0   \n",
       "17    000100039X    [3, 5]      5.0   \n",
       "18    000100039X    [1, 1]      5.0   \n",
       "19    000100039X    [3, 3]      5.0   \n",
       "21    000100039X    [2, 3]      5.0   \n",
       "22    000100039X    [1, 4]      3.0   \n",
       "23    000100039X    [2, 9]      2.0   \n",
       "25    000100039X    [5, 6]      5.0   \n",
       "26    000100039X    [1, 2]      5.0   \n",
       "31    000100039X    [1, 1]      5.0   \n",
       "33    000100039X    [0, 2]      3.0   \n",
       "34    000100039X  [81, 92]      5.0   \n",
       "36    000100039X    [2, 3]      5.0   \n",
       "37    000100039X    [1, 2]      5.0   \n",
       "42    000100039X    [1, 1]      5.0   \n",
       "43    000100039X   [8, 10]      5.0   \n",
       "46    000100039X   [8, 10]      5.0   \n",
       "48    000100039X    [2, 2]      5.0   \n",
       "49    000100039X    [0, 1]      5.0   \n",
       "50    000100039X    [3, 3]      5.0   \n",
       "53    000100039X    [4, 4]      5.0   \n",
       "54    000100039X    [3, 5]      5.0   \n",
       "56    000100039X    [2, 4]      5.0   \n",
       "57    000100039X    [1, 1]      5.0   \n",
       "58    000100039X    [3, 4]      5.0   \n",
       "59    000100039X    [1, 1]      5.0   \n",
       "61    000100039X    [4, 4]      5.0   \n",
       "...          ...       ...      ...   \n",
       "9955  0006514006    [3, 5]      5.0   \n",
       "9956  0006514006    [0, 1]      5.0   \n",
       "9958  0006514006   [8, 11]      5.0   \n",
       "9959  0006514006    [1, 2]      5.0   \n",
       "9960  0006514006    [1, 1]      5.0   \n",
       "9962  0006514006    [2, 3]      5.0   \n",
       "9964  0006514006    [3, 4]      5.0   \n",
       "9965  0006514006    [2, 3]      5.0   \n",
       "9966  0006514006    [1, 2]      3.0   \n",
       "9967  0006514006    [1, 4]      5.0   \n",
       "9968  0006514006    [2, 4]      5.0   \n",
       "9972  0006514006    [2, 2]      3.0   \n",
       "9973  0006514006    [6, 6]      5.0   \n",
       "9974  0006514006    [2, 2]      5.0   \n",
       "9976  0006514006    [1, 1]      5.0   \n",
       "9977  0006514006    [0, 1]      4.0   \n",
       "9978  0006514006    [8, 8]      1.0   \n",
       "9979  0006514006    [1, 3]      4.0   \n",
       "9980  0006514006    [0, 1]      5.0   \n",
       "9981  0006514006    [1, 1]      5.0   \n",
       "9983  0006514006    [0, 1]      5.0   \n",
       "9986  0006514006  [15, 19]      1.0   \n",
       "9987  0006514006  [20, 27]      1.0   \n",
       "9990  0006514006    [3, 6]      4.0   \n",
       "9992  0006514006  [13, 15]      2.0   \n",
       "9993  0006514006    [1, 1]      5.0   \n",
       "9995  0006514006    [0, 1]      5.0   \n",
       "9997  0006514006    [1, 1]      4.0   \n",
       "9998  0006514006    [2, 4]      4.0   \n",
       "9999  0006514006    [1, 1]      1.0   \n",
       "\n",
       "                                             reviewText   reviewTime  \\\n",
       "1     This is one my must have books. It is a master...  12 11, 2003   \n",
       "4     A timeless classic.  It is a very demanding an...   10 7, 2002   \n",
       "14    I discovered The Prophet fifty years ago in co...  01 23, 2013   \n",
       "15    Can't say enough about Kahlil Gibran's work am...  06 27, 2012   \n",
       "17    Anything I've read by Gibran is, in my mind, f...  11 16, 2005   \n",
       "18    Cool book, I really like the quality of the pr...  02 15, 2012   \n",
       "19    This book is everything that is simple, delica...  10 13, 2003   \n",
       "21    I would have to say that this is the best book...  02 24, 2001   \n",
       "22    Its a thin book, very readable and has interes...  07 13, 2000   \n",
       "23    I read this about a year ago and can't recall ...  03 21, 2008   \n",
       "25    I first read The Prophet by Kahlil Gibran over...  03 12, 2012   \n",
       "26    It's a thin book which has deep thoughts about...   10 3, 2004   \n",
       "31    I only wish I could read the original text.  T...   07 4, 2008   \n",
       "33    Maybe some of the folks in his homeland consid...  12 17, 2013   \n",
       "34    This is one of the first (literary) books I re...  06 24, 2000   \n",
       "36    This is one of the best, most inspiring philos...   12 4, 2004   \n",
       "37    This is Gibran's most celebrated work and it i...   05 3, 2000   \n",
       "42    A decade past, I knew very little about the wr...   02 8, 2012   \n",
       "43    The Prophet is Kahlil Gibran's best known work...  10 27, 2009   \n",
       "46    Gibran Khalil Gibran was born in 1883 in what ...  01 10, 2006   \n",
       "48    I didn't really know what to expect when I pur...  12 24, 2009   \n",
       "49    As the author of a spiritually-themed book ent...  05 15, 2009   \n",
       "50    Eloquent and full of divine wisdom, this littl...  07 10, 2002   \n",
       "53    \" When you are joyous, look deep into your hea...  11 29, 2009   \n",
       "54    Okay I know that Gibhran is supposed to be cor...  05 21, 2002   \n",
       "56    The prophet by Kahlil Gibran is a very beautif...   08 2, 2007   \n",
       "57    _The Prophet_ is a short read (my copy checks ...  08 12, 2012   \n",
       "58    The Prophet is about a mysterious religious th...  01 25, 2001   \n",
       "59    Khalil Gibran's book, The Prophet, has the pow...  02 10, 2011   \n",
       "61    I plan to buy 3 more copies from Amazon, for m...  02 27, 2011   \n",
       "...                                                 ...          ...   \n",
       "9955  If you missed the beautiful film, \"Anne of the...  09 28, 2002   \n",
       "9956  Very good story telling. The characters were v...  11 25, 2002   \n",
       "9958  Much has been written about this turbulent tim...  09 22, 2002   \n",
       "9959  It's so Magical, the way P.Gregory tells this ...   02 9, 2007   \n",
       "9960  Compulsively readable and unputdownable, Phili...   03 3, 2013   \n",
       "9962  I LOVED this book! I don't really like reading...  04 17, 2003   \n",
       "9964  &quot;The Other Boleyn Girl&quot; is a truly f...  08 30, 2002   \n",
       "9965  Took this book on vacation and couldn't put it...  08 11, 2005   \n",
       "9966  The Other Boleyn Girl was not as well written ...   04 1, 2008   \n",
       "9967  \"The Other Boleyn Girl\" represents the BEST in...  04 11, 2005   \n",
       "9968  I loved this book. It was a little long but th...  06 30, 2008   \n",
       "9972  I decided to read this book because it was rec...   07 1, 2005   \n",
       "9973  What a story, what a writer, what a well writt...   08 3, 2004   \n",
       "9974  The novel is about the Boleyn family, an ambit...  06 23, 2006   \n",
       "9976  This book was absolutely fantastic. It was an ...   06 9, 2006   \n",
       "9977  1. The Other Boleyn Girl - Phillippa GregoryI ...   04 2, 2009   \n",
       "9978  I was so looking forward to this novel - a som...  05 24, 2008   \n",
       "9979  Everybody has already said everything, so I'll...  05 30, 2008   \n",
       "9980  I couldn't hardly put this book down as was th...  06 26, 2007   \n",
       "9981  I loved this book! I think I read it in a week...  12 14, 2009   \n",
       "9983  I really can't express how much I loved this b...  01 18, 2011   \n",
       "9986  I am appalled by how many people thought this ...  02 25, 2008   \n",
       "9987  Many many reviews have been posted, and I will...  01 19, 2007   \n",
       "9990  With just a little too much romance to be hist...   06 5, 2004   \n",
       "9992  It is possibly unfair of me to review this boo...   07 9, 2007   \n",
       "9993  This is the first book I read from Gregory. I ...  07 21, 2012   \n",
       "9995  this was a great book.  I did not like the Con...   10 6, 2007   \n",
       "9997  The Other Boleyn girl was a highly engrossing ...  08 17, 2011   \n",
       "9998  Last week I finished reading The Other Boleyn ...  09 13, 2008   \n",
       "9999  I confess that I used to be a consistent reade...   05 4, 2014   \n",
       "\n",
       "          reviewerID                                     reviewerName  \\\n",
       "1     A2S166WSCFIFP5  adead_poet@hotmail.com \"adead_poet@hotmail.com\"   \n",
       "4     A2XQ5LZHTD4AFT                                         Alaturka   \n",
       "14    A19N3FCQCLJYUA                                  Amazon Customer   \n",
       "15    A3FFNE1DR5SI1W                                       A. Morelli   \n",
       "17    A2X4HE21JTAL98                                      Antiquarian   \n",
       "18     ARDQ9KNB8K22N                                            Anwar   \n",
       "19     A27ZH1AQORJ1L                        anybody else or \"amanuet\"   \n",
       "21    A26GKZPS079GFF                                            Areej   \n",
       "22     AENNW2G826191                                         Ashish A   \n",
       "23    A1KQ80Y692CDOI                                            Atown   \n",
       "25     AF7CSSGV93RXN          A. William Benitez \"A. William Benitez\"   \n",
       "26    A3L6UC8985ORUY                            Ayesha Riaz \"ashriaz\"   \n",
       "31    A3H65DAAV98C8F                    Bill Feingold \"Bill Feingold\"   \n",
       "33    A2M7R6TNMH5YZN                                           BrentW   \n",
       "34    A1NPNGWBVD9AK3                              Bruce Kendall \"BEK\"   \n",
       "36    A1L5IG1LKN6NED                                 Cassandra Kramer   \n",
       "37    A15ACUAJEJXCS3                                              Caz   \n",
       "42    A1JP8MMNY1EACY     Christopher Covert \"Author of Hands On Fire\"   \n",
       "43    A3IS4WGMFR4X65                         Colin Lewis \"WisdomNote\"   \n",
       "46     AWLFVCT9128JV                                Dave_42 \"Dave_42\"   \n",
       "48    A33CNFK776MTWR                                    David M. Reed   \n",
       "49    A1MCAHDE1F3Q6L                                Davis Aujourd'hui   \n",
       "50     APW96HJ7GYRJH                                Del Ray Zimmerman   \n",
       "53     AMRZ5G7HF7I03               Didaskalex \"Eusebius Alexandrinus\"   \n",
       "54     A34HCSZJXZLPC                            dinadan26 \"dinadan26\"   \n",
       "56     AI9CMLQWH9KRP                                        D. Muller   \n",
       "57    A2NHD7LUXVGTD3                                     doc peterson   \n",
       "58    A1K1JW1C5CUSUZ               Donald Mitchell \"Jesus Loves You!\"   \n",
       "59     ADS5APY1NKTL4                                   D. Pawl \"Dani\"   \n",
       "61    A3A0ZK5GTHSCUV                             D. Woncisz \"LADIDAH\"   \n",
       "...              ...                                              ...   \n",
       "9955  A1TWTULVD6F22O                              L. Quido \"quidrock\"   \n",
       "9956   AB5WHQ93ETMH7                                              LSB   \n",
       "9958  A2MF2QVSCUI27G                            Luan Gaines \"luansos\"   \n",
       "9959  A2IAWMDW6G60AN                     Lubna Sayed \"Lubi Lafdewali\"   \n",
       "9960  A2LIR7WQ20GXQ7                                          Lucinda   \n",
       "9962  A3T87OHG0NKMBS                                         L. Vince   \n",
       "9964  A32VWSQ0FPZKZ3                                              MAB   \n",
       "9965   AFR1LGVHMPP4T                            Maggie \"danville mom\"   \n",
       "9966  A2WFYLXYYK32WP                               Mahlon Christensen   \n",
       "9967  A3GMVGM7L1PM9H                                        M. Alther   \n",
       "9968  A2M52HXVU7XY17                            M.A.  (Mom of 2 boys)   \n",
       "9972   ANJ1POQ7LKFME                                            Marge   \n",
       "9973  A1QVQ7UJY4VASG                   Margie Read \"magnoliamansions\"   \n",
       "9974  A2NS4ZOVB28DK4                                       Maria Atas   \n",
       "9976   A438K3PHPZ9H6                            Marie Beck \"herstory\"   \n",
       "9977  A3OSQL8M2W0ZJF                 Marie \"www.bookishlyreviews.com\"   \n",
       "9978  A21A2JGWH92TXZ                                       Mark \"MTF\"   \n",
       "9979  A26DMTLIKAT8DN                  Marva Dasef \"YA Fantasy Author\"   \n",
       "9980  A3IAI52HLKGSMY                                   Mary A. Hebert   \n",
       "9981   AN1YAE4CUAL74                                     Mary E. Knox   \n",
       "9983   AWOUU2ALYHGGS                    Mary E. Williams \"babywatson\"   \n",
       "9986  A17CXMO6VRMXI0            MaryLouise Hawken \"MaryLouise Hawken\"   \n",
       "9987  A1M1Y3R6X9HY6W                                           Mary R   \n",
       "9990  A17TPT3FWAE5T1                           Matthew Spady \"800rsd\"   \n",
       "9992  A2I9MZZUJIXM96                                            Maxie   \n",
       "9993   A9K3PZUTG3IXA                                             Maye   \n",
       "9995  A36MDVJ59IZNXH                                          MC \"MC\"   \n",
       "9997  A3HBE3VAKQ7RYF          Megan @ Book Brats \"Book Brats Reviews\"   \n",
       "9998  A2I5HGFRL5GVQJ                                    Megan Kruljac   \n",
       "9999   A83MKA85YHNIX                                         Meghan H   \n",
       "\n",
       "                                                summary  unixReviewTime  \\\n",
       "1                                          close to god      1071100800   \n",
       "4                                         A Modern Rumi      1033948800   \n",
       "14                A book everyone &#34;should&#34; read      1358899200   \n",
       "15                      phenomenal piece of literature!      1340755200   \n",
       "17                                             Flawless      1132099200   \n",
       "18                                \"The Prophet\" is cool      1329264000   \n",
       "19                                           Enchanting      1066003200   \n",
       "21              Touches my heart.. again and.. again...       982972800   \n",
       "22                                            Good Read       963446400   \n",
       "23                                             Eloquent      1206057600   \n",
       "25                                  A Great Little Gift      1331510400   \n",
       "26                                             Loved it      1096761600   \n",
       "31             This book will change your life--really.      1215129600   \n",
       "33                                  Not a prophet to me      1387238400   \n",
       "34                                        Simple Wisdom       961804800   \n",
       "36                 One of my Favorite books of all time      1102118400   \n",
       "37                                               Superb       957312000   \n",
       "42                                          Remarkable!      1328659200   \n",
       "43                    The most loving book ever written      1256601600   \n",
       "46                                  The Lessons Of Life      1136851200   \n",
       "48                          Delightful to read and hold      1261612800   \n",
       "49                                       Eternal Truths      1242345600   \n",
       "50                                   Simply profound...      1026259200   \n",
       "53                Gibran's Prophet-worthy Poetic Wisdom      1259452800   \n",
       "54                       One of the guide books to life      1021939200   \n",
       "56                                          The Prophet      1186012800   \n",
       "57    a beautiful poetic commentary on what it is to...      1344729600   \n",
       "58    Transcend Human Subjectivity to Find Godlike O...       980380800   \n",
       "59                           inspiring and beautiful...      1297296000   \n",
       "61    QUICK AND POWERFUL \"FIRST-AID\" FOR THE BROKEN ...      1298764800   \n",
       "...                                                 ...             ...   \n",
       "9955  This book fills in the blanks with well-writte...      1033171200   \n",
       "9956                                         Great Read      1038182400   \n",
       "9958                        A Machiavellian Masterpiece      1032652800   \n",
       "9959                                    Par Excellence!      1170979200   \n",
       "9960  This compelling, mesmerizing account brings th...      1362268800   \n",
       "9962                         Get lost in the past......      1050537600   \n",
       "9964     Do not let the amount of pages discourage you!      1030665600   \n",
       "9965                                       Awesome read      1123718400   \n",
       "9966                Sweet Valley High meets The Tudors.      1207008000   \n",
       "9967  WOW!  A REAL PAGE TURNER YOU WON'T WANT TO PUT...      1113177600   \n",
       "9968                                          LOVED IT!      1214784000   \n",
       "9972                      Mirror, Mirror on the wall...      1120176000   \n",
       "9973                                      What a story!      1091491200   \n",
       "9974  Love, ambition, scandal, politics, intrigue......      1151020800   \n",
       "9976                                        Fantastic!!      1149811200   \n",
       "9977                                We love the Tudors!      1238630400   \n",
       "9978                               a disappointing bore      1211587200   \n",
       "9979                                Liked it - Hated it      1212105600   \n",
       "9980                              The Other Boleyn Girl      1182816000   \n",
       "9981                                          Loved it!      1260748800   \n",
       "9983                                      A great read!      1295308800   \n",
       "9986                               ?Historical? Hardly!      1203897600   \n",
       "9987                                          Appalling      1169164800   \n",
       "9990                       Intrigue in the Tudor Courts      1086393600   \n",
       "9992                      good story, atrocious writing      1183939200   \n",
       "9993                  Loved it despite the inaccuracies      1342828800   \n",
       "9995                               couldn't put it down      1191628800   \n",
       "9997        Beautiful book about an amazing time period      1313539200   \n",
       "9998                                  An enjoyable read      1221264000   \n",
       "9999         Why did I used to enjoy these books again?      1399161600   \n",
       "\n",
       "      reviewLength  TotalVotes  helpfulVotes  totalVotes  helpfulPercentage  \n",
       "1               49           2             0           2           0.000000  \n",
       "4              150           9             7           9           0.777778  \n",
       "14             162           1             1           1           1.000000  \n",
       "15              71           1             1           1           1.000000  \n",
       "17              80           5             3           5           0.600000  \n",
       "18             181           1             1           1           1.000000  \n",
       "19              54           3             3           3           1.000000  \n",
       "21              41           3             2           3           0.666667  \n",
       "22              54           4             1           4           0.250000  \n",
       "23             134           9             2           9           0.222222  \n",
       "25              76           6             5           6           0.833333  \n",
       "26              38           2             1           2           0.500000  \n",
       "31              33           1             1           1           1.000000  \n",
       "33              52           2             0           2           0.000000  \n",
       "34             283          92            81          92           0.880435  \n",
       "36              88           3             2           3           0.666667  \n",
       "37              97           2             1           2           0.500000  \n",
       "42             165           1             1           1           1.000000  \n",
       "43             379          10             8          10           0.800000  \n",
       "46             135          10             8          10           0.800000  \n",
       "48             250           2             2           2           1.000000  \n",
       "49             225           1             0           1           0.000000  \n",
       "50              40           3             3           3           1.000000  \n",
       "53             489           4             4           4           1.000000  \n",
       "54             136           5             3           5           0.600000  \n",
       "56             103           4             2           4           0.500000  \n",
       "57             310           1             1           1           1.000000  \n",
       "58             580           4             3           4           0.750000  \n",
       "59             101           1             1           1           1.000000  \n",
       "61             371           4             4           4           1.000000  \n",
       "...            ...         ...           ...         ...                ...  \n",
       "9955           461           5             3           5           0.600000  \n",
       "9956            60           1             0           1           0.000000  \n",
       "9958           425          11             8          11           0.727273  \n",
       "9959            42           2             1           2           0.500000  \n",
       "9960           414           1             1           1           1.000000  \n",
       "9962           144           3             2           3           0.666667  \n",
       "9964           196           4             3           4           0.750000  \n",
       "9965            12           3             2           3           0.666667  \n",
       "9966           178           2             1           2           0.500000  \n",
       "9967            60           4             1           4           0.250000  \n",
       "9968            24           4             2           4           0.500000  \n",
       "9972           149           2             2           2           1.000000  \n",
       "9973           114           6             6           6           1.000000  \n",
       "9974           320           2             2           2           1.000000  \n",
       "9976           109           1             1           1           1.000000  \n",
       "9977           153           1             0           1           0.000000  \n",
       "9978            84           8             8           8           1.000000  \n",
       "9979           126           3             1           3           0.333333  \n",
       "9980            48           1             0           1           0.000000  \n",
       "9981            96           1             1           1           1.000000  \n",
       "9983            51           1             0           1           0.000000  \n",
       "9986           205          19            15          19           0.789474  \n",
       "9987           293          27            20          27           0.740741  \n",
       "9990           534           6             3           6           0.500000  \n",
       "9992           213          15            13          15           0.866667  \n",
       "9993           112           1             1           1           1.000000  \n",
       "9995            28           1             0           1           0.000000  \n",
       "9997           227           1             1           1           1.000000  \n",
       "9998           139           4             2           4           0.500000  \n",
       "9999           920           1             1           1           1.000000  \n",
       "\n",
       "[7166 rows x 14 columns]"
      ]
     },
     "execution_count": 199,
     "metadata": {},
     "output_type": "execute_result"
    }
   ],
   "source": [
    "df_sub_reduced.head()"
   ]
  },
  {
   "cell_type": "markdown",
   "metadata": {},
   "source": [
    "Since reviewerID is provided, reviewerName is extraneous. It exists in the original dataFrame so it's available if I need it to cross-check any discrepancies."
   ]
  },
  {
   "cell_type": "code",
   "execution_count": 312,
   "metadata": {},
   "outputs": [],
   "source": [
    "del df_sub_reduced['reviewerName']"
   ]
  },
  {
   "cell_type": "markdown",
   "metadata": {},
   "source": [
    "## Initial Summary"
   ]
  },
  {
   "cell_type": "markdown",
   "metadata": {},
   "source": [
    "I am looking for criteria to rank the helpfulness of reviews and reviewers. The next logical step is to group the data by reviewerID and look for any trends. The data clearly shows that users are more likely to vote for a review if they find it helpful. This should prove instrumental for training data to determine the helpfulness of a given review. The length of the review can also be used, but it's influence should be limited since its correlation with the helpful percentage is 0.17."
   ]
  },
  {
   "cell_type": "markdown",
   "metadata": {},
   "source": [
    "## Questions Going Forward"
   ]
  },
  {
   "cell_type": "markdown",
   "metadata": {},
   "source": [
    "1) What other criterion can be used to determine the helpfulness of reviews?\n",
    "\n",
    "2) What model can I create to generate a single number to rank how helpful reviews are?\n",
    "\n",
    "3) What trends will grouping by reviewerID reveal?\n",
    "\n",
    "4) What will grouping by time series stamp reveal?\n",
    "\n",
    "5) Are the words themselves, or sentence length of each review worth examining?"
   ]
  },
  {
   "cell_type": "code",
   "execution_count": 314,
   "metadata": {},
   "outputs": [],
   "source": []
  }
 ],
 "metadata": {
  "kernelspec": {
   "display_name": "Python 3",
   "language": "python",
   "name": "python3"
  },
  "language_info": {
   "codemirror_mode": {
    "name": "ipython",
    "version": 3
   },
   "file_extension": ".py",
   "mimetype": "text/x-python",
   "name": "python",
   "nbconvert_exporter": "python",
   "pygments_lexer": "ipython3",
   "version": "3.6.4"
  }
 },
 "nbformat": 4,
 "nbformat_minor": 2
}
